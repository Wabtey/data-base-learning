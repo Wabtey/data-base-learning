{
 "cells": [
  {
   "cell_type": "markdown",
   "id": "f22a0735",
   "metadata": {},
   "source": [
    "# Data Base\n",
    "\n",
    "Florian EPAIN\n",
    "20105403, MASTER IL group 3"
   ]
  },
  {
   "cell_type": "markdown",
   "id": "0781e302",
   "metadata": {},
   "source": [
    "## Belatedly Installation\n",
    "\n",
    "We can visualize blank `.csv` file using `vscode` and the extension `Rainbow CSV`.\n",
    "\n",
    "### Docs\n",
    "\n",
    "- I used the [Psycopg2 tutorials](https://www.psycopg.org/docs/install.html#quick-install) to connect my notebook to my database.\n",
    "- [SQL Datatypes](https://www.w3schools.com/sql/sql_datatypes.asp)\n",
    "- [Install Custom postgres](https://ravinderfzk.medium.com/install-postgresql-and-pgadmin4-in-arch-linux-eb013b45540f)"
   ]
  },
  {
   "cell_type": "code",
   "execution_count": null,
   "id": "84bf7fd3",
   "metadata": {},
   "outputs": [],
   "source": [
    "%pip install psycopg2-binary"
   ]
  },
  {
   "cell_type": "code",
   "execution_count": null,
   "id": "5fc77b17",
   "metadata": {},
   "outputs": [
    {
     "name": "stdout",
     "output_type": "stream",
     "text": [
      "Defaulting to user installation because normal site-packages is not writeable\n",
      "Requirement already satisfied: pip in /usr/lib/python3/dist-packages (22.0.2)\n",
      "Collecting pip\n",
      "  Downloading pip-23.2.1-py3-none-any.whl (2.1 MB)\n",
      "\u001b[2K     \u001b[38;2;114;156;31m━━━━━━━━━━━━━━━━━━━━━━━━━━━━━━━━━━━━━━━━\u001b[0m \u001b[32m2.1/2.1 MB\u001b[0m \u001b[31m16.2 MB/s\u001b[0m eta \u001b[36m0:00:00\u001b[0mm eta \u001b[36m0:00:01\u001b[0m[36m0:00:01\u001b[0m\n",
      "\u001b[?25hInstalling collected packages: pip\n",
      "\u001b[33m  WARNING: The scripts pip, pip3, pip3.10 and pip3.11 are installed in '/private/student/n/in/fepain/.local/bin' which is not on PATH.\n",
      "  Consider adding this directory to PATH or, if you prefer to suppress this warning, use --no-warn-script-location.\u001b[0m\u001b[33m\n",
      "\u001b[0mSuccessfully installed pip-23.2.1\n"
     ]
    }
   ],
   "source": [
    "%pip install -U pip"
   ]
  },
  {
   "cell_type": "code",
   "execution_count": 3,
   "id": "d88440b6",
   "metadata": {},
   "outputs": [
    {
     "name": "stdout",
     "output_type": "stream",
     "text": [
      "\u001b[K⡿ installing duckdb from spec 'duckdb==0.9.1'\n",
      "No apps associated with package duckdb or its dependencies. If you are\n",
      "attempting to install a library, pipx should not be used. Consider using pip\n",
      "or a similar tool instead.\n",
      "\u001b[?25h"
     ]
    }
   ],
   "source": [
    "%pip install duckdb==0.9.1"
   ]
  },
  {
   "cell_type": "markdown",
   "id": "01ee0c25",
   "metadata": {},
   "source": [
    "Archlinux build:\n",
    "- `pacman -S python-psycopg2`\n",
    "- `pacman -S python-pipx`\n",
    "- `pacman -S python-duckdb`"
   ]
  },
  {
   "cell_type": "code",
   "execution_count": 31,
   "id": "65e9feac",
   "metadata": {},
   "outputs": [],
   "source": [
    "# If the Server postgres is down\n",
    "import duckdb\n",
    "cursor_duckdb = duckdb.connect()\n",
    "# print(cursor_duckdb.execute('SELECT 42').fetchall())"
   ]
  },
  {
   "cell_type": "code",
   "execution_count": 1,
   "id": "1edfc169",
   "metadata": {},
   "outputs": [],
   "source": [
    "import psycopg2\n",
    "from getpass import getpass\n",
    "  \n",
    "# Connection establishment\n",
    "# conn = psycopg2.connect( \n",
    "#     database=\"fepain\", \n",
    "#     user='fepain', \n",
    "#     password=getpass(), \n",
    "#     host='chausey.istic.univ-rennes1.fr', \n",
    "#     port='5432'\n",
    "# )\n",
    "\n",
    "\n",
    "# localhost Connection\n",
    "conn = psycopg2.connect( \n",
    "    database='m1-db-lab', \n",
    "    user='postgres', \n",
    "    password=getpass(), \n",
    "    host='localhost', \n",
    "    port='5432'\n",
    ")\n",
    "  \n",
    "conn.autocommit = True\n",
    "  \n",
    "# Creating a cursor object \n",
    "cursor_postgres = conn.cursor()"
   ]
  },
  {
   "cell_type": "code",
   "execution_count": 16,
   "id": "30003e27",
   "metadata": {},
   "outputs": [
    {
     "name": "stdout",
     "output_type": "stream",
     "text": [
      "Table has been created successfully D:\n"
     ]
    }
   ],
   "source": [
    "# Query to create a table \n",
    "sql = ''' CREATE TABLE TripData \n",
    "( \n",
    "    medallion VARCHAR(32), \n",
    "    hack_licence VARCHAR(32), \n",
    "    vendor_id VARCHAR(10), \n",
    "    rate_code INT,\n",
    "    store_and_fwd_flag VARCHAR(10),\n",
    "    pickup_datetime TIMESTAMP,\n",
    "    dropoff_datetime TIMESTAMP,\n",
    "    passenger_count INT,\n",
    "    trip_time_in_secs INT,\n",
    "    trip_distance FLOAT,\n",
    "    pickup_longitude FLOAT,\n",
    "    pickup_latitude FLOAT,\n",
    "    dropoff_longitude FLOAT,\n",
    "    dropoff_latitude FLOAT\n",
    "); '''\n",
    "  \n",
    "# --- Executing above query ---\n",
    "cursor_postgres.execute(sql) # postgres\n",
    "cursor_duckdb.execute(sql) # duckdb\n",
    "print(\"Table has been created successfully D:\")"
   ]
  },
  {
   "cell_type": "code",
   "execution_count": 30,
   "id": "11272dfc",
   "metadata": {},
   "outputs": [
    {
     "name": "stdout",
     "output_type": "stream",
     "text": [
      "PostgreSQL:\n",
      "[]\n",
      "DuckDB:\n",
      "[]\n"
     ]
    }
   ],
   "source": [
    "# WARNING: Display the WHOLE table \n",
    "\n",
    "cursor_postgres.execute('SELECT * FROM TripData')\n",
    "print(\"PostgreSQL:\")\n",
    "print(cursor_postgres.fetchall())\n",
    "\n",
    "cursor_duckdb.execute('SELECT * FROM TripData')\n",
    "print(\"DuckDB:\")\n",
    "print(cursor_duckdb.fetchall())"
   ]
  },
  {
   "cell_type": "code",
   "execution_count": null,
   "id": "82e80b10",
   "metadata": {},
   "outputs": [],
   "source": [
    "# First Try\n",
    "sql = ''' COPY TripDataSample FROM 'trip_date-sample.csv' With CSV HEADER DELIMITER as ','; '''\n",
    "# cursor.execute(sql)\n",
    "# print(cursor.fetchall())"
   ]
  },
  {
   "cell_type": "markdown",
   "id": "db23c384",
   "metadata": {},
   "source": [
    "---\n",
    "\n",
    "We now import the `csv` file, using the [Cursor Copy - tutorials](https://www.psycopg.org/docs/cursor.html#cursor.copy_from) and the [COPY docs](https://www.postgresql.org/docs/current/sql-copy.html). I can't use `copy_from()`, I will use `copy_expert()` as mentionned in this [github issue](https://github.com/psycopg/psycopg2/issues/1294) in POSTGRESQL\n",
    "\n",
    "---"
   ]
  },
  {
   "cell_type": "code",
   "execution_count": 42,
   "id": "cac1da77",
   "metadata": {},
   "outputs": [
    {
     "name": "stdout",
     "output_type": "stream",
     "text": [
      "[('89D227B655E5C82AECF13C3F540D4CF4', 'BA96DE419E711691B9445D6A6307C170', 'CMT', 1, 'N', datetime.datetime(2013, 1, 1, 15, 11, 48), datetime.datetime(2013, 1, 1, 15, 18, 10), 4, 382, 1.0, -73.978165, 40.757977, -73.989838, 40.751171), ('0BD7C8F5BA12B88E0B67BED28BEA73D8', '9FD8F69F0804BDB5549F40E9DA1BE472', 'CMT', 1, 'N', datetime.datetime(2013, 1, 6, 0, 18, 35), datetime.datetime(2013, 1, 6, 0, 22, 54), 1, 259, 1.5, -74.006683, 40.731781, -73.994499, 40.75066), ('0BD7C8F5BA12B88E0B67BED28BEA73D8', '9FD8F69F0804BDB5549F40E9DA1BE472', 'CMT', 1, 'N', datetime.datetime(2013, 1, 5, 18, 49, 41), datetime.datetime(2013, 1, 5, 18, 54, 23), 1, 282, 1.1, -74.004707, 40.73777, -74.009834, 40.726002), ('DFD2202EE08F7A8DC9A57B02ACB81FE2', '51EE87E3205C985EF8431D850C786310', 'CMT', 1, 'N', datetime.datetime(2013, 1, 7, 23, 54, 15), datetime.datetime(2013, 1, 7, 23, 58, 20), 2, 244, 0.7, -73.974602, 40.759945, -73.984734, 40.759388), ('DFD2202EE08F7A8DC9A57B02ACB81FE2', '51EE87E3205C985EF8431D850C786310', 'CMT', 1, 'N', datetime.datetime(2013, 1, 7, 23, 25, 3), datetime.datetime(2013, 1, 7, 23, 34, 24), 1, 560, 2.1, -73.97625, 40.748528, -74.002586, 40.747868), ('20D9ECB2CA0767CF7A01564DF2844A3E', '598CCE5B9C1918568DEE71F43CF26CD2', 'CMT', 1, 'N', datetime.datetime(2013, 1, 7, 15, 27, 48), datetime.datetime(2013, 1, 7, 15, 38, 37), 1, 648, 1.7, -73.966743, 40.764252, -73.983322, 40.743763), ('496644932DF3932605C22C7926FF0FE0', '513189AD756FF14FE670D10B92FAF04C', 'CMT', 1, 'N', datetime.datetime(2013, 1, 8, 11, 1, 15), datetime.datetime(2013, 1, 8, 11, 8, 14), 1, 418, 0.8, -73.995804, 40.743977, -74.007416, 40.744343), ('0B57B9633A2FECD3D3B1944AFC7471CF', 'CCD4367B417ED6634D986F573A552A62', 'CMT', 1, 'N', datetime.datetime(2013, 1, 7, 12, 39, 18), datetime.datetime(2013, 1, 7, 13, 10, 56), 3, 1898, 10.7, -73.989937, 40.756775, -73.86525, 40.77063), ('2C0E91FF20A856C891483ED63589F982', '1DA2F6543A62B8ED934771661A9D2FA0', 'CMT', 1, 'N', datetime.datetime(2013, 1, 7, 18, 15, 47), datetime.datetime(2013, 1, 7, 18, 20, 47), 1, 299, 0.8, -73.980072, 40.743137, -73.982712, 40.735336)]\n"
     ]
    }
   ],
   "source": [
    "# Import Sample CSV in PostgreSQL\n",
    "csv_file_path = \"assets/data/trip_data-sample.csv\"\n",
    "# cursor_postgres.copy_from(f, 'TripData')\n",
    "\n",
    "with open(csv_file_path, 'r') as f:\n",
    "    cursor_postgres.copy_expert(\n",
    "    \"COPY TripData FROM STDIN With CSV HEADER DELIMITER as ','\",\n",
    "    f)\n",
    "\n",
    "# Display the table \n",
    "\n",
    "# cursor_postgres.execute('SELECT * FROM TripData')\n",
    "# print(cursor_postgres.fetchall())"
   ]
  },
  {
   "cell_type": "code",
   "execution_count": null,
   "id": "12752c2c",
   "metadata": {},
   "outputs": [],
   "source": [
    "# Import Sample CSV in DuckDB\n",
    "\n",
    "# cursor_duckdb.execute('SELECT * FROM \\'trip_data-sample.csv\\';')\n",
    "# print(cursor_duckdb.fetchall())\n",
    "\n",
    "sql = ''' COPY TripData FROM 'assets/data/trip_data-sample.csv' With CSV HEADER DELIMITER as ','; '''\n",
    "cursor_duckdb.execute(sql)\n",
    "print(cursor_duckdb.fetchall())"
   ]
  },
  {
   "cell_type": "code",
   "execution_count": null,
   "id": "dec64037",
   "metadata": {},
   "outputs": [],
   "source": [
    "# Drop the table\n",
    "\n",
    "cursor_postgres.execute('DROP TABLE TripData')\n",
    "cursor_duckdb.execute('DROP TABLE TripData')"
   ]
  },
  {
   "cell_type": "markdown",
   "id": "b029438c",
   "metadata": {},
   "source": [
    "---\n",
    "\n",
    "Big CSV Import\n",
    "\n",
    "---"
   ]
  },
  {
   "cell_type": "code",
   "execution_count": 18,
   "id": "1b99e8e6",
   "metadata": {},
   "outputs": [
    {
     "name": "stdout",
     "output_type": "stream",
     "text": [
      "medallion,hack_licence,vendor_id,rate_code,store_and_fwd_flag,pickup_datetime,dropoff_datetime,passenger_count,trip_time_in_secs,trip_distance,pickup_longitude,pickup_latitude,dropoff_longitude,dropoff_latitude"
     ]
    }
   ],
   "source": [
    "# Import Big CSV in PostgreSQL\n",
    "csv_file_path = \"assets/data/trip_data/trip_data_1.csv\"\n",
    "# cursor.copy_from(f, 'TripData')\n",
    "\n",
    "with open(csv_file_path, 'r') as f:\n",
    "    cursor_postgres.copy_expert(\n",
    "    \"COPY TripData FROM STDIN With CSV HEADER DELIMITER as ','\",\n",
    "    f)"
   ]
  },
  {
   "cell_type": "code",
   "execution_count": null,
   "id": "4f44dfb0",
   "metadata": {},
   "outputs": [
    {
     "name": "stdout",
     "output_type": "stream",
     "text": [
      "medallion,hack_licence,vendor_id,rate_code,store_and_fwd_flag,pickup_datetime,dropoff_datetime,passenger_count,trip_time_in_secs,trip_distance,pickup_longitude,pickup_latitude,dropoff_longitude,dropoff_latitude\n"
     ]
    }
   ],
   "source": [
    "from sys import stdout\n",
    "\n",
    "# Display attributes\n",
    "cursor_postgres.copy_expert(\"COPY TripData TO STDOUT WITH CSV HEADER\", stdout)"
   ]
  },
  {
   "cell_type": "code",
   "execution_count": 34,
   "id": "6eaca95f",
   "metadata": {},
   "outputs": [
    {
     "name": "stdout",
     "output_type": "stream",
     "text": [
      "[(14776615,)]\n"
     ]
    }
   ],
   "source": [
    "# Import Big CSV in DuckDB\n",
    "\n",
    "# cursor_duckdb.execute('SELECT * FROM \\'trip_data_1.csv\\';')\n",
    "# print(cursor_duckdb.fetchall())\n",
    "\n",
    "sql = ''' COPY TripData FROM 'assets/data/trip_data/trip_data_1.csv' With CSV HEADER DELIMITER as ','; '''\n",
    "cursor_duckdb.execute(sql)\n",
    "print(cursor_duckdb.fetchall())"
   ]
  },
  {
   "cell_type": "markdown",
   "id": "931a84b9",
   "metadata": {},
   "source": [
    "## Analyze Queries\n",
    "\n",
    "\n",
    "- [`EXPLAIN` docs](https://www.postgresql.org/docs/current/sql-explain.html)\n",
    "- <https://explain.dalibo.com/>\n",
    "- Use [`CLUSTER`](https://www.postgresql.org/docs/current/sql-cluster.html)\n",
    "- Use [`CREATE INDEX name on Table (column_to_index)`](https://www.postgresql.org/docs/current/sql-createindex.html)\n",
    "- use `EXPLAIN VERBOSE` / `BUFFER` to exploit `EXPLAIN`\n",
    "  - add `ANALYZE` to display only graph\n",
    "- optimize request with duckDB"
   ]
  },
  {
   "cell_type": "markdown",
   "id": "cb0b282b",
   "metadata": {},
   "source": [
    "### Optimize PostgreSQL"
   ]
  },
  {
   "cell_type": "code",
   "execution_count": 5,
   "id": "2573e409",
   "metadata": {},
   "outputs": [],
   "source": [
    "optimize = 'CREATE INDEX index_medallion on TripData (medallion);'\n",
    "cursor_postgres.execute(optimize)"
   ]
  },
  {
   "cell_type": "code",
   "execution_count": 8,
   "id": "e68cdd66",
   "metadata": {},
   "outputs": [],
   "source": [
    "optimize = 'CREATE INDEX index_passenger on TripData (passenger_count);'\n",
    "cursor_postgres.execute(optimize)"
   ]
  },
  {
   "cell_type": "code",
   "execution_count": null,
   "id": "64176bd2",
   "metadata": {},
   "outputs": [],
   "source": [
    "# Remove the indexes\n",
    "drop_index = 'DROP INDEX index_medallion; DROP INDEX index_passenger;'\n",
    "cursor_postgres.execute(drop_index)"
   ]
  },
  {
   "cell_type": "code",
   "execution_count": null,
   "id": "69db5b80",
   "metadata": {},
   "outputs": [],
   "source": [
    "# cluster = 'CLUSTER TripData using index_medallion;'\n",
    "# cursor_postgres.execute(cluster)\n",
    "# print(cursor_postgres.fetchall())"
   ]
  },
  {
   "cell_type": "markdown",
   "id": "6aafacc0",
   "metadata": {},
   "source": [
    "### Query 0"
   ]
  },
  {
   "cell_type": "code",
   "execution_count": 9,
   "id": "8b43aa1f",
   "metadata": {},
   "outputs": [
    {
     "name": "stdout",
     "output_type": "stream",
     "text": [
      "                                   PostgreSQL\n",
      "-------------------------------------------------------------------------------\n",
      "                                   QUERY PLAN\n",
      "-------------------------------------------------------------------------------\n",
      "Gather  (cost=1000.00..399428.24 rows=1147 width=140) (actual time=11.978..1483.911 rows=1512 loops=1)\n",
      "  Workers Planned: 2\n",
      "  Workers Launched: 2\n",
      "  ->  Parallel Seq Scan on tripdata  (cost=0.00..398313.54 rows=478 width=140) (actual time=7.455..1463.798 rows=504 loops=3)\n",
      "        Filter: ((medallion)::text = '0B57B9633A2FECD3D3B1944AFC7471CF'::text)\n",
      "        Rows Removed by Filter: 4925034\n",
      "Planning Time: 0.451 ms\n",
      "JIT:\n",
      "  Functions: 6\n",
      "  Options: Inlining false, Optimization false, Expressions true, Deforming true\n",
      "  Timing: Generation 0.610 ms, Inlining 0.000 ms, Optimization 0.535 ms, Emission 8.549 ms, Total 9.693 ms\n",
      "Execution Time: 1484.434 ms\n",
      "[('Gather  (cost=1000.00..399428.24 rows=1147 width=140) (actual time=11.978..1483.911 rows=1512 loops=1)',), ('  Workers Planned: 2',), ('  Workers Launched: 2',), ('  ->  Parallel Seq Scan on tripdata  (cost=0.00..398313.54 rows=478 width=140) (actual time=7.455..1463.798 rows=504 loops=3)',), (\"        Filter: ((medallion)::text = '0B57B9633A2FECD3D3B1944AFC7471CF'::text)\",), ('        Rows Removed by Filter: 4925034',), ('Planning Time: 0.451 ms',), ('JIT:',), ('  Functions: 6',), ('  Options: Inlining false, Optimization false, Expressions true, Deforming true',), ('  Timing: Generation 0.610 ms, Inlining 0.000 ms, Optimization 0.535 ms, Emission 8.549 ms, Total 9.693 ms',), ('Execution Time: 1484.434 ms',)]\n",
      "-------------------------------------------------------------------------------\n",
      "                                    QUERY 0\n",
      "Average Time Elapsed / sql execution (in sec):\n",
      "1.1665715784999975\n",
      "-------------------------------------------------------------------------------\n"
     ]
    }
   ],
   "source": [
    "# ------------------------- Query 0 -------------------------\n",
    "import time\n",
    "\n",
    "\n",
    "print(\"                                   PostgreSQL\\n-------------------------------------------------------------------------------\")\n",
    "\n",
    "query = 'SELECT * FROM TripData WHERE medallion = \\'0B57B9633A2FECD3D3B1944AFC7471CF\\';'\n",
    "\n",
    "explain = 'EXPLAIN ANALYZE ' + query\n",
    "cursor_postgres.execute(explain)\n",
    "print(\"                                   QUERY PLAN\\n-------------------------------------------------------------------------------\")\n",
    "execution_plan = cursor_postgres.fetchall()\n",
    "for line in execution_plan:\n",
    "    print(line[0])\n",
    "    \n",
    "print(execution_plan)\n",
    "print(\"-------------------------------------------------------------------------------\")\n",
    "\n",
    "\n",
    "print(\"                                    QUERY 0\")\n",
    "number_of_iteration = 10;\n",
    "start_time = time.perf_counter()\n",
    "\n",
    "for x in range(number_of_iteration):\n",
    "    cursor_postgres.execute(query)\n",
    "    # print(cursor_postgres.fetchall())\n",
    "\n",
    "end_time = time.perf_counter()\n",
    "time_lapsed = end_time - start_time\n",
    "print('Average Time Elapsed / sql execution (in sec):')\n",
    "print(time_lapsed / number_of_iteration)\n",
    "\n",
    "print(\"-------------------------------------------------------------------------------\")\n",
    "\n",
    "# print(cursor_postgres.fetchall())"
   ]
  },
  {
   "cell_type": "code",
   "execution_count": 54,
   "id": "1a16785a",
   "metadata": {},
   "outputs": [
    {
     "name": "stdout",
     "output_type": "stream",
     "text": [
      "                                                      DuckDB\n",
      "--------------------------------------------------------------------------------------------------------------------\n",
      "                                                     QUERY PLAN\n",
      "--------------------------------------------------------------------------------------------------------------------\n",
      "[('analyzed_plan', \"┌─────────────────────────────────────┐\\n│┌───────────────────────────────────┐│\\n││    Query Profiling Information    ││\\n│└───────────────────────────────────┘│\\n└─────────────────────────────────────┘\\nEXPLAIN ANALYZE SELECT * FROM TripData WHERE medallion = '00005007A9F30E289E760362F69E4EAD';\\n┌─────────────────────────────────────┐\\n│┌───────────────────────────────────┐│\\n││        Total Time: 0.0157s        ││\\n│└───────────────────────────────────┘│\\n└─────────────────────────────────────┘\\n┌───────────────────────────┐\\n│      EXPLAIN_ANALYZE      │\\n│   ─ ─ ─ ─ ─ ─ ─ ─ ─ ─ ─   │\\n│             0             │\\n│          (0.00s)          │\\n└─────────────┬─────────────┘                             \\n┌─────────────┴─────────────┐\\n│         SEQ_SCAN          │\\n│   ─ ─ ─ ─ ─ ─ ─ ─ ─ ─ ─   │\\n│          TripData         │\\n│   ─ ─ ─ ─ ─ ─ ─ ─ ─ ─ ─   │\\n│         medallion         │\\n│        hack_licence       │\\n│         vendor_id         │\\n│         rate_code         │\\n│     store_and_fwd_flag    │\\n│      pickup_datetime      │\\n│      dropoff_datetime     │\\n│      passenger_count      │\\n│     trip_time_in_secs     │\\n│       trip_distance       │\\n│      pickup_longitude     │\\n│      pickup_latitude      │\\n│     dropoff_longitude     │\\n│      dropoff_latitude     │\\n│   ─ ─ ─ ─ ─ ─ ─ ─ ─ ─ ─   │\\n│     Filters: medallion    │\\n│=00005007A9F30E289E760...  │\\n│  AND medallion IS NOT NULL│\\n│   ─ ─ ─ ─ ─ ─ ─ ─ ─ ─ ─   │\\n│          EC: 1078         │\\n│   ─ ─ ─ ─ ─ ─ ─ ─ ─ ─ ─   │\\n│            1538           │\\n│          (0.20s)          │\\n└───────────────────────────┘                             \\n\")]\n",
      "--------------------------------------------------------------------------------------------------------------------\n",
      "                                                      QUERY 0\n",
      "Average Time Elapsed / sql execution (in sec):\n",
      "0.0003994497004896402\n"
     ]
    }
   ],
   "source": [
    "print(\"                                                      DuckDB\\n--------------------------------------------------------------------------------\")\n",
    "\n",
    "duckDBquery = 'SELECT * FROM TripData WHERE medallion = \\'00005007A9F30E289E760362F69E4EAD\\';'\n",
    "\n",
    "explain = 'EXPLAIN ANALYZE ' + duckDBquery\n",
    "print(\"                                   QUERY PLAN\\n-------------------------------------------------------------------------------\")\n",
    "cursor_duckdb.execute(explain)\n",
    "execution_plan = cursor_duckdb.fetchall()\n",
    "print(execution_plan)\n",
    "print(\"-------------------------------------------------------------------------------\")\n",
    "\n",
    "\n",
    "print(\"                                    QUERY 0\")\n",
    "number_of_iteration = 10;\n",
    "start_time = time.perf_counter()\n",
    "\n",
    "for x in range(number_of_iteration):\n",
    "    cursor_duckdb.execute(duckDBquery)\n",
    "    # print(cursor_duckdb.fetchall())\n",
    "\n",
    "end_time = time.perf_counter()\n",
    "time_lapsed = end_time - start_time\n",
    "print('Average Time Elapsed / sql execution (in sec):')\n",
    "print(time_lapsed / number_of_iteration)\n",
    "\n",
    "# print(\"-------------------------------------------------------------------------------\")\n",
    "# print(cursor_duckdb.fetchall())"
   ]
  },
  {
   "cell_type": "markdown",
   "id": "57dcf1bb",
   "metadata": {},
   "source": [
    "### Query 1"
   ]
  },
  {
   "cell_type": "code",
   "execution_count": 10,
   "id": "052ff1f7",
   "metadata": {},
   "outputs": [
    {
     "name": "stdout",
     "output_type": "stream",
     "text": [
      "                                   PostgreSQL\n",
      "-------------------------------------------------------------------------------\n",
      "                                   QUERY PLAN\n",
      "-------------------------------------------------------------------------------\n",
      "Seq Scan on tripdata  (cost=0.00..506059.69 rows=4274875 width=140) (actual time=82.609..2785.382 rows=4304748 loops=1)\n",
      "  Filter: (passenger_count >= 2)\n",
      "  Rows Removed by Filter: 10471867\n",
      "Planning Time: 0.100 ms\n",
      "JIT:\n",
      "  Functions: 2\n",
      "  Options: Inlining true, Optimization true, Expressions true, Deforming true\n",
      "  Timing: Generation 0.216 ms, Inlining 45.297 ms, Optimization 20.676 ms, Emission 16.620 ms, Total 82.809 ms\n",
      "Execution Time: 2900.227 ms\n",
      "-------------------------------------------------------------------------------\n",
      "                                    QUERY 1\n",
      "Average Time Elapsed / sql execution (in sec):\n",
      "5.062296803599975\n"
     ]
    }
   ],
   "source": [
    "# ------------------------- Query 1 -------------------------\n",
    "print(\"                                   PostgreSQL\\n-------------------------------------------------------------------------------\")\n",
    "\n",
    "query = 'SELECT * FROM TripData WHERE passenger_count >= 2;'\n",
    "\n",
    "explain = 'EXPLAIN ANALYZE ' + query\n",
    "cursor_postgres.execute(explain)\n",
    "print(\"                                   QUERY PLAN\\n-------------------------------------------------------------------------------\")\n",
    "execution_plan = cursor_postgres.fetchall()\n",
    "for line in execution_plan:\n",
    "    print(line[0])\n",
    "print(\"-------------------------------------------------------------------------------\")\n",
    "\n",
    "print(\"                                    QUERY 1\")\n",
    "number_of_iteration = 10;\n",
    "start_time = time.perf_counter()\n",
    "\n",
    "for x in range(number_of_iteration):\n",
    "    cursor_postgres.execute(query)\n",
    "    # print(cursor_postgres.fetchall())\n",
    "\n",
    "end_time = time.perf_counter()\n",
    "time_lapsed = end_time - start_time\n",
    "print('Average Time Elapsed / sql execution (in sec):')\n",
    "print(time_lapsed / number_of_iteration)"
   ]
  },
  {
   "cell_type": "code",
   "execution_count": 55,
   "id": "399a1d01",
   "metadata": {
    "scrolled": true
   },
   "outputs": [
    {
     "name": "stdout",
     "output_type": "stream",
     "text": [
      "                                                      DuckDB\n",
      "--------------------------------------------------------------------------------------------------------------------\n",
      "                                                     QUERY PLAN\n",
      "--------------------------------------------------------------------------------------------------------------------\n",
      "[('analyzed_plan', \"┌─────────────────────────────────────┐\\n│┌───────────────────────────────────┐│\\n││    Query Profiling Information    ││\\n│└───────────────────────────────────┘│\\n└─────────────────────────────────────┘\\nEXPLAIN ANALYZE SELECT * FROM TripData WHERE medallion = '00005007A9F30E289E760362F69E4EAD';\\n┌─────────────────────────────────────┐\\n│┌───────────────────────────────────┐│\\n││        Total Time: 0.0163s        ││\\n│└───────────────────────────────────┘│\\n└─────────────────────────────────────┘\\n┌───────────────────────────┐\\n│      EXPLAIN_ANALYZE      │\\n│   ─ ─ ─ ─ ─ ─ ─ ─ ─ ─ ─   │\\n│             0             │\\n│          (0.00s)          │\\n└─────────────┬─────────────┘                             \\n┌─────────────┴─────────────┐\\n│         SEQ_SCAN          │\\n│   ─ ─ ─ ─ ─ ─ ─ ─ ─ ─ ─   │\\n│          TripData         │\\n│   ─ ─ ─ ─ ─ ─ ─ ─ ─ ─ ─   │\\n│         medallion         │\\n│        hack_licence       │\\n│         vendor_id         │\\n│         rate_code         │\\n│     store_and_fwd_flag    │\\n│      pickup_datetime      │\\n│      dropoff_datetime     │\\n│      passenger_count      │\\n│     trip_time_in_secs     │\\n│       trip_distance       │\\n│      pickup_longitude     │\\n│      pickup_latitude      │\\n│     dropoff_longitude     │\\n│      dropoff_latitude     │\\n│   ─ ─ ─ ─ ─ ─ ─ ─ ─ ─ ─   │\\n│     Filters: medallion    │\\n│=00005007A9F30E289E760...  │\\n│  AND medallion IS NOT NULL│\\n│   ─ ─ ─ ─ ─ ─ ─ ─ ─ ─ ─   │\\n│          EC: 1078         │\\n│   ─ ─ ─ ─ ─ ─ ─ ─ ─ ─ ─   │\\n│            1538           │\\n│          (0.20s)          │\\n└───────────────────────────┘                             \\n\")]\n",
      "--------------------------------------------------------------------------------------------------------------------\n",
      "                                                      QUERY 1\n",
      "Average Time Elapsed / sql execution (in sec):\n",
      "0.0005247043998679146\n"
     ]
    }
   ],
   "source": [
    "# Query 1\n",
    "\n",
    "print(\"                                                      DuckDB\\n--------------------------------------------------------------------------------\")\n",
    "\n",
    "query = 'SELECT * FROM TripData WHERE passenger_count >= 2;'\n",
    "\n",
    "explain = 'EXPLAIN ANALYZE ' + duckDBquery\n",
    "print(\"                                   QUERY PLAN\\n-------------------------------------------------------------------------------\")\n",
    "cursor_duckdb.execute(explain)\n",
    "execution_plan = cursor_duckdb.fetchall()\n",
    "print(execution_plan)\n",
    "print(\"-------------------------------------------------------------------------------\")\n",
    "\n",
    "print(\"                                    QUERY 1\")\n",
    "number_of_iteration = 10;\n",
    "start_time = time.perf_counter()\n",
    "\n",
    "for x in range(number_of_iteration):\n",
    "    cursor_duckdb.execute(query)\n",
    "    # print(cursor_duckdb.fetchall())\n",
    "\n",
    "end_time = time.perf_counter()\n",
    "time_lapsed = end_time - start_time\n",
    "print('Average Time Elapsed / sql execution (in sec):')\n",
    "print(time_lapsed / number_of_iteration)"
   ]
  },
  {
   "cell_type": "markdown",
   "id": "acf2b930",
   "metadata": {},
   "source": [
    "### Query 2"
   ]
  },
  {
   "cell_type": "code",
   "execution_count": 14,
   "id": "3eefd066",
   "metadata": {},
   "outputs": [
    {
     "name": "stdout",
     "output_type": "stream",
     "text": [
      "                                   PostgreSQL\n",
      "-------------------------------------------------------------------------------\n",
      "                                   QUERY PLAN\n",
      "-------------------------------------------------------------------------------\n",
      "Seq Scan on tripdata  (cost=0.00..506059.69 rows=10501740 width=140) (actual time=95.853..2392.197 rows=10471701 loops=1)\n",
      "  Filter: (passenger_count = 1)\n",
      "  Rows Removed by Filter: 4304914\n",
      "Planning Time: 0.205 ms\n",
      "JIT:\n",
      "  Functions: 2\n",
      "  Options: Inlining true, Optimization true, Expressions true, Deforming true\n",
      "  Timing: Generation 0.231 ms, Inlining 24.688 ms, Optimization 47.738 ms, Emission 23.404 ms, Total 96.061 ms\n",
      "Execution Time: 2666.169 ms\n",
      "-------------------------------------------------------------------------------\n",
      "                                    QUERY 2\n",
      "Average Time Elapsed / sql execution (in sec):\n",
      "19.501642151800024\n"
     ]
    }
   ],
   "source": [
    "# ------------------------- Query 2 -------------------------\n",
    "import time\n",
    "\n",
    "print(\"                                   PostgreSQL\\n-------------------------------------------------------------------------------\")\n",
    "\n",
    "query = 'SELECT * FROM TripData WHERE passenger_count = 1;'\n",
    "\n",
    "explain = 'EXPLAIN ANALYZE ' + query\n",
    "cursor_postgres.execute(explain)\n",
    "print(\"                                   QUERY PLAN\\n-------------------------------------------------------------------------------\")\n",
    "execution_plan = cursor_postgres.fetchall()\n",
    "for line in execution_plan:\n",
    "    print(line[0])\n",
    "print(\"-------------------------------------------------------------------------------\")\n",
    "\n",
    "print(\"                                    QUERY 2\")\n",
    "number_of_iteration = 10;\n",
    "start_time = time.perf_counter()\n",
    "\n",
    "for x in range(number_of_iteration):\n",
    "    cursor_postgres.execute(query)\n",
    "    # print(cursor_postgres.fetchall())\n",
    "\n",
    "end_time = time.perf_counter()\n",
    "time_lapsed = end_time - start_time\n",
    "print('Average Time Elapsed / sql execution (in sec):')\n",
    "print(time_lapsed / number_of_iteration)"
   ]
  },
  {
   "cell_type": "code",
   "execution_count": 56,
   "id": "11bba85f",
   "metadata": {},
   "outputs": [
    {
     "name": "stdout",
     "output_type": "stream",
     "text": [
      "                                                     DuckDB\n",
      "--------------------------------------------------------------------------------------------------------------------\n",
      "                                                     QUERY PLAN\n",
      "--------------------------------------------------------------------------------------------------------------------\n",
      "[('analyzed_plan', \"┌─────────────────────────────────────┐\\n│┌───────────────────────────────────┐│\\n││    Query Profiling Information    ││\\n│└───────────────────────────────────┘│\\n└─────────────────────────────────────┘\\nEXPLAIN ANALYZE SELECT * FROM TripData WHERE medallion = '00005007A9F30E289E760362F69E4EAD';\\n┌─────────────────────────────────────┐\\n│┌───────────────────────────────────┐│\\n││        Total Time: 0.0153s        ││\\n│└───────────────────────────────────┘│\\n└─────────────────────────────────────┘\\n┌───────────────────────────┐\\n│      EXPLAIN_ANALYZE      │\\n│   ─ ─ ─ ─ ─ ─ ─ ─ ─ ─ ─   │\\n│             0             │\\n│          (0.00s)          │\\n└─────────────┬─────────────┘                             \\n┌─────────────┴─────────────┐\\n│         SEQ_SCAN          │\\n│   ─ ─ ─ ─ ─ ─ ─ ─ ─ ─ ─   │\\n│          TripData         │\\n│   ─ ─ ─ ─ ─ ─ ─ ─ ─ ─ ─   │\\n│         medallion         │\\n│        hack_licence       │\\n│         vendor_id         │\\n│         rate_code         │\\n│     store_and_fwd_flag    │\\n│      pickup_datetime      │\\n│      dropoff_datetime     │\\n│      passenger_count      │\\n│     trip_time_in_secs     │\\n│       trip_distance       │\\n│      pickup_longitude     │\\n│      pickup_latitude      │\\n│     dropoff_longitude     │\\n│      dropoff_latitude     │\\n│   ─ ─ ─ ─ ─ ─ ─ ─ ─ ─ ─   │\\n│     Filters: medallion    │\\n│=00005007A9F30E289E760...  │\\n│  AND medallion IS NOT NULL│\\n│   ─ ─ ─ ─ ─ ─ ─ ─ ─ ─ ─   │\\n│          EC: 1078         │\\n│   ─ ─ ─ ─ ─ ─ ─ ─ ─ ─ ─   │\\n│            1538           │\\n│          (0.20s)          │\\n└───────────────────────────┘                             \\n\")]\n",
      "--------------------------------------------------------------------------------------------------------------------\n",
      "                                                      QUERY 2\n",
      "Average Time Elapsed / sql execution (in sec):\n",
      "0.000593345399829559\n"
     ]
    }
   ],
   "source": [
    "# ------------------------- Query 2 -------------------------\n",
    "\n",
    "print(\"                                                     DuckDB\\n--------------------------------------------------------------------------------\")\n",
    "\n",
    "query = 'SELECT * FROM TripData WHERE passenger_count = 1;'\n",
    "\n",
    "explain = 'EXPLAIN ANALYZE ' + duckDBquery\n",
    "print(\"                                   QUERY PLAN\\n-------------------------------------------------------------------------------\")\n",
    "cursor_duckdb.execute(explain)\n",
    "execution_plan = cursor_duckdb.fetchall()\n",
    "print(execution_plan)\n",
    "print(\"-------------------------------------------------------------------------------\")\n",
    "\n",
    "print(\"                                    QUERY 2\")\n",
    "number_of_iteration = 10;\n",
    "start_time = time.perf_counter()\n",
    "\n",
    "for x in range(number_of_iteration):\n",
    "    cursor_duckdb.execute(query)\n",
    "    # print(cursor_duckdb.fetchall())\n",
    "\n",
    "end_time = time.perf_counter()\n",
    "time_lapsed = end_time - start_time\n",
    "print('Average Time Elapsed / sql execution (in sec):')\n",
    "print(time_lapsed / number_of_iteration)"
   ]
  },
  {
   "cell_type": "markdown",
   "id": "99f87a0d",
   "metadata": {},
   "source": [
    "### Aggreagte 0"
   ]
  },
  {
   "cell_type": "code",
   "execution_count": 5,
   "id": "9daa8927",
   "metadata": {},
   "outputs": [
    {
     "name": "stdout",
     "output_type": "stream",
     "text": [
      "                                   PostgreSQL\n",
      "-------------------------------------------------------------------------------\n",
      "                                   QUERY PLAN\n",
      "-------------------------------------------------------------------------------\n",
      "Finalize Aggregate  (cost=399313.75..399313.76 rows=1 width=8) (actual time=729.125..733.073 rows=1 loops=1)\n",
      "  ->  Gather  (cost=399313.54..399313.75 rows=2 width=8) (actual time=729.000..733.054 rows=3 loops=1)\n",
      "        Workers Planned: 2\n",
      "        Workers Launched: 2\n",
      "        ->  Partial Aggregate  (cost=398313.54..398313.55 rows=1 width=8) (actual time=716.973..716.974 rows=1 loops=3)\n",
      "              ->  Parallel Seq Scan on tripdata  (cost=0.00..382921.23 rows=6156923 width=8) (actual time=0.027..400.020 rows=4925538 loops=3)\n",
      "Planning Time: 0.082 ms\n",
      "JIT:\n",
      "  Functions: 11\n",
      "  Options: Inlining false, Optimization false, Expressions true, Deforming true\n",
      "  Timing: Generation 0.729 ms, Inlining 0.000 ms, Optimization 0.621 ms, Emission 11.152 ms, Total 12.502 ms\n",
      "Execution Time: 733.483 ms\n",
      "-------------------------------------------------------------------------------\n",
      "                                   AGGREGATE 0\n",
      "Average Time Elapsed / sql execution (in sec):\n",
      "0.544023670199931\n"
     ]
    }
   ],
   "source": [
    "# ------------------------- Aggregate 0 -------------------------\n",
    "import time\n",
    "\n",
    "print(\"                                   PostgreSQL\\n-------------------------------------------------------------------------------\")\n",
    "\n",
    "aggregate = 'SELECT SUM(trip_distance) FROM TripData;'\n",
    "\n",
    "explain = 'EXPLAIN ANALYZE ' + aggregate\n",
    "cursor_postgres.execute(explain)\n",
    "print(\"                                   QUERY PLAN\\n-------------------------------------------------------------------------------\")\n",
    "execution_plan = cursor_postgres.fetchall()\n",
    "for line in execution_plan:\n",
    "    print(line[0])\n",
    "print(\"-------------------------------------------------------------------------------\")\n",
    "\n",
    "print(\"                                   AGGREGATE 0\")\n",
    "number_of_iteration = 10;\n",
    "start_time = time.perf_counter()\n",
    "\n",
    "for x in range(number_of_iteration):\n",
    "    cursor_postgres.execute(aggregate)\n",
    "    # print(cursor_postgres.fetchall())\n",
    "\n",
    "\n",
    "end_time = time.perf_counter()\n",
    "time_lapsed = end_time - start_time\n",
    "print('Average Time Elapsed / sql execution (in sec):')\n",
    "print(time_lapsed / number_of_iteration)"
   ]
  },
  {
   "cell_type": "code",
   "execution_count": null,
   "id": "10bc49f7",
   "metadata": {},
   "outputs": [],
   "source": [
    "# ------------------------- Aggregate 0 -------------------------\n",
    "print(\"                                                     DuckDB\\n--------------------------------------------------------------------------------\")\n",
    "\n",
    "aggregate = 'SELECT SUM(trip_distance) FROM TripData;'\n",
    "\n",
    "explain = 'EXPLAIN ANALYZE ' + aggregate\n",
    "print(\"                                   QUERY PLAN\\n-------------------------------------------------------------------------------\")\n",
    "cursor_duckdb.execute(explain)\n",
    "execution_plan = cursor_duckdb.fetchall()\n",
    "print(execution_plan)\n",
    "print(\"-------------------------------------------------------------------------------\")\n",
    "\n",
    "print(\"                                                     AGGREGATE 0\")\n",
    "number_of_iteration = 10;\n",
    "start_time = time.perf_counter()\n",
    "\n",
    "for x in range(number_of_iteration):\n",
    "    cursor_duckdb.execute(aggregate)\n",
    "    # print(cursor_duckdb.fetchall())\n",
    "\n",
    "end_time = time.perf_counter()\n",
    "time_lapsed = end_time - start_time\n",
    "print('Average Time Elapsed / sql execution (in sec):')\n",
    "print(time_lapsed / number_of_iteration)"
   ]
  },
  {
   "cell_type": "markdown",
   "id": "b0e4cec3",
   "metadata": {},
   "source": [
    "### Aggregate 1"
   ]
  },
  {
   "cell_type": "code",
   "execution_count": 17,
   "id": "160fe4e6",
   "metadata": {},
   "outputs": [
    {
     "name": "stdout",
     "output_type": "stream",
     "text": [
      "                                   PostgreSQL\n",
      "-------------------------------------------------------------------------------\n",
      "                                   QUERY PLAN\n",
      "-------------------------------------------------------------------------------\n",
      "Finalize GroupAggregate  (cost=422193.90..425470.31 rows=12806 width=41) (actual time=1970.244..1987.353 rows=13348 loops=1)\n",
      "  Group Key: medallion\n",
      "  ->  Gather Merge  (cost=422193.90..425182.18 rows=25612 width=65) (actual time=1970.170..1981.676 rows=39579 loops=1)\n",
      "        Workers Planned: 2\n",
      "        Workers Launched: 2\n",
      "        ->  Sort  (cost=421193.88..421225.90 rows=12806 width=65) (actual time=1951.308..1952.975 rows=13193 loops=3)\n",
      "              Sort Key: medallion\n",
      "              Sort Method: quicksort  Memory: 1724kB\n",
      "              Worker 0:  Sort Method: quicksort  Memory: 1724kB\n",
      "              Worker 1:  Sort Method: quicksort  Memory: 1726kB\n",
      "              ->  Partial HashAggregate  (cost=420192.16..420320.22 rows=12806 width=65) (actual time=1934.090..1936.984 rows=13193 loops=3)\n",
      "                    Group Key: medallion\n",
      "                    Batches: 1  Memory Usage: 2705kB\n",
      "                    Worker 0:  Batches: 1  Memory Usage: 3089kB\n",
      "                    Worker 1:  Batches: 1  Memory Usage: 2705kB\n",
      "                    ->  Parallel Seq Scan on tripdata  (cost=0.00..398313.54 rows=4375725 width=41) (actual time=8.314..1236.801 rows=3490567 loops=3)\n",
      "                          Filter: (passenger_count = 1)\n",
      "                          Rows Removed by Filter: 1434971\n",
      "Planning Time: 0.107 ms\n",
      "JIT:\n",
      "  Functions: 30\n",
      "  Options: Inlining false, Optimization false, Expressions true, Deforming true\n",
      "  Timing: Generation 1.883 ms, Inlining 0.000 ms, Optimization 1.446 ms, Emission 23.585 ms, Total 26.914 ms\n",
      "Execution Time: 1988.639 ms\n",
      "-------------------------------------------------------------------------------\n",
      "                                                     AGGREGATE 1\n",
      "Average Time Elapsed / sql execution (in sec):\n",
      "1.5556343512500006\n"
     ]
    }
   ],
   "source": [
    "# ------------------------- Aggregate 1 -------------------------\n",
    "import time\n",
    "\n",
    "print(\"                                   PostgreSQL\\n-------------------------------------------------------------------------------\")\n",
    "\n",
    "aggregate = 'SELECT medallion, AVG(trip_distance) FROM TripData WHERE passenger_count = 1 GROUP BY medallion;'\n",
    "\n",
    "explain = 'EXPLAIN ANALYZE ' + aggregate\n",
    "cursor_postgres.execute(explain)\n",
    "print(\"                                   QUERY PLAN\\n-------------------------------------------------------------------------------\")\n",
    "execution_plan = cursor_postgres.fetchall()\n",
    "for line in execution_plan:\n",
    "    print(line[0])\n",
    "print(\"-------------------------------------------------------------------------------\")\n",
    "\n",
    "print(\"                                                     AGGREGATE 1\")\n",
    "number_of_iteration = 10;\n",
    "start_time = time.perf_counter()\n",
    "\n",
    "for x in range(number_of_iteration):\n",
    "    cursor_postgres.execute(aggregate)\n",
    "    # print(cursor_postgres.fetchall())\n",
    "\n",
    "end_time = time.perf_counter()\n",
    "time_lapsed = end_time - start_time\n",
    "print('Average Time Elapsed / sql execution (in sec):')\n",
    "print(time_lapsed / number_of_iteration)"
   ]
  },
  {
   "cell_type": "code",
   "execution_count": 59,
   "id": "bbc6799f",
   "metadata": {},
   "outputs": [
    {
     "name": "stdout",
     "output_type": "stream",
     "text": [
      "                                                     DuckDB\n",
      "--------------------------------------------------------------------------------------------------------------------\n",
      "                                                     QUERY PLAN\n",
      "--------------------------------------------------------------------------------------------------------------------\n",
      "[('analyzed_plan', '┌─────────────────────────────────────┐\\n│┌───────────────────────────────────┐│\\n││    Query Profiling Information    ││\\n│└───────────────────────────────────┘│\\n└─────────────────────────────────────┘\\nEXPLAIN ANALYZE SELECT medallion, AVG(trip_distance) FROM TripData WHERE passenger_count = 1 GROUP BY medallion;\\n┌─────────────────────────────────────┐\\n│┌───────────────────────────────────┐│\\n││         Total Time: 0.159s        ││\\n│└───────────────────────────────────┘│\\n└─────────────────────────────────────┘\\n┌───────────────────────────┐\\n│      EXPLAIN_ANALYZE      │\\n│   ─ ─ ─ ─ ─ ─ ─ ─ ─ ─ ─   │\\n│             0             │\\n│          (0.00s)          │\\n└─────────────┬─────────────┘                             \\n┌─────────────┴─────────────┐\\n│       HASH_GROUP_BY       │\\n│   ─ ─ ─ ─ ─ ─ ─ ─ ─ ─ ─   │\\n│             #0            │\\n│          avg(#1)          │\\n│   ─ ─ ─ ─ ─ ─ ─ ─ ─ ─ ─   │\\n│           13348           │\\n│          (2.02s)          │\\n└─────────────┬─────────────┘                             \\n┌─────────────┴─────────────┐\\n│         PROJECTION        │\\n│   ─ ─ ─ ─ ─ ─ ─ ─ ─ ─ ─   │\\n│         medallion         │\\n│   CAST(trip_distance AS   │\\n│           DOUBLE)         │\\n│   ─ ─ ─ ─ ─ ─ ─ ─ ─ ─ ─   │\\n│          10471701         │\\n│          (0.04s)          │\\n└─────────────┬─────────────┘                             \\n┌─────────────┴─────────────┐\\n│         SEQ_SCAN          │\\n│   ─ ─ ─ ─ ─ ─ ─ ─ ─ ─ ─   │\\n│          TripData         │\\n│   ─ ─ ─ ─ ─ ─ ─ ─ ─ ─ ─   │\\n│         medallion         │\\n│       trip_distance       │\\n│   ─ ─ ─ ─ ─ ─ ─ ─ ─ ─ ─   │\\n│ Filters: passenger_count=1│\\n│ AND passenger_count IS NOT│\\n│            NULL           │\\n│   ─ ─ ─ ─ ─ ─ ─ ─ ─ ─ ─   │\\n│        EC: 2110945        │\\n│   ─ ─ ─ ─ ─ ─ ─ ─ ─ ─ ─   │\\n│          10471701         │\\n│          (0.40s)          │\\n└───────────────────────────┘                             \\n')]\n",
      "--------------------------------------------------------------------------------------------------------------------\n",
      "                                                     AGGREGATE 1\n",
      "Average Time Elapsed / sql execution (in sec):\n",
      "0.08850973779917695\n"
     ]
    }
   ],
   "source": [
    "# ------------------------- Aggregate 1 -------------------------\n",
    "print(\"                                                     DuckDB\\n--------------------------------------------------------------------------------\")\n",
    "\n",
    "aggregate = 'SELECT medallion, AVG(trip_distance) FROM TripData WHERE passenger_count = 1 GROUP BY medallion;'\n",
    "\n",
    "explain = 'EXPLAIN ANALYZE ' + aggregate\n",
    "print(\"                                   QUERY PLAN\\n-------------------------------------------------------------------------------\")\n",
    "cursor_duckdb.execute(explain)\n",
    "execution_plan = cursor_duckdb.fetchall()\n",
    "print(execution_plan)\n",
    "print(\"-------------------------------------------------------------------------------\")\n",
    "\n",
    "print(\"                                                     AGGREGATE 1\")\n",
    "number_of_iteration = 10;\n",
    "start_time = time.perf_counter()\n",
    "\n",
    "for x in range(number_of_iteration):\n",
    "    cursor_duckdb.execute(aggregate)\n",
    "    # print(cursor_duckdb.fetchall())\n",
    "\n",
    "end_time = time.perf_counter()\n",
    "time_lapsed = end_time - start_time\n",
    "print('Average Time Elapsed / sql execution (in sec):')\n",
    "print(time_lapsed / number_of_iteration)"
   ]
  },
  {
   "cell_type": "markdown",
   "id": "92fdbaf9",
   "metadata": {},
   "source": [
    "### Aggregate 2"
   ]
  },
  {
   "cell_type": "code",
   "execution_count": 18,
   "id": "84da9ccd",
   "metadata": {},
   "outputs": [
    {
     "name": "stdout",
     "output_type": "stream",
     "text": [
      "                                   PostgreSQL\n",
      "-------------------------------------------------------------------------------\n",
      "                                   QUERY PLAN\n",
      "-------------------------------------------------------------------------------\n",
      "Finalize GroupAggregate  (cost=856814.49..894876.22 rows=148766 width=40) (actual time=23679.484..26141.667 rows=2303465 loops=1)\n",
      "  Group Key: pickup_datetime\n",
      "  ->  Gather Merge  (cost=856814.49..891528.98 rows=297532 width=40) (actual time=23679.318..25234.041 rows=4525799 loops=1)\n",
      "        Workers Planned: 2\n",
      "        Workers Launched: 2\n",
      "        ->  Sort  (cost=855814.47..856186.38 rows=148766 width=40) (actual time=22633.304..23094.821 rows=1508600 loops=3)\n",
      "              Sort Key: pickup_datetime\n",
      "              Sort Method: external merge  Disk: 80408kB\n",
      "              Worker 0:  Sort Method: external merge  Disk: 83048kB\n",
      "              Worker 1:  Sort Method: external merge  Disk: 80224kB\n",
      "              ->  Partial HashAggregate  (cost=777349.11..838962.97 rows=148766 width=40) (actual time=3316.274..20182.299 rows=1508600 loops=3)\n",
      "                    Group Key: pickup_datetime\n",
      "                    Planned Partitions: 4  Batches: 69  Memory Usage: 8345kB  Disk Usage: 189360kB\n",
      "                    Worker 0:  Batches: 69  Memory Usage: 8345kB  Disk Usage: 197624kB\n",
      "                    Worker 1:  Batches: 61  Memory Usage: 8345kB  Disk Usage: 189608kB\n",
      "                    ->  Parallel Seq Scan on tripdata  (cost=0.00..382921.23 rows=6156923 width=12) (actual time=0.021..1567.655 rows=4925538 loops=3)\n",
      "Planning Time: 0.200 ms\n",
      "JIT:\n",
      "  Functions: 36\n",
      "  Options: Inlining true, Optimization true, Expressions true, Deforming true\n",
      "  Timing: Generation 4.148 ms, Inlining 222.170 ms, Optimization 365.409 ms, Emission 224.200 ms, Total 815.928 ms\n",
      "Execution Time: 26236.874 ms\n",
      "-------------------------------------------------------------------------------\n",
      "                                   AGGREGATE 2\n",
      "Average Time Elapsed / sql execution (in sec):\n",
      "19.61382004449997\n"
     ]
    }
   ],
   "source": [
    "# ------------------------- Aggregate 2 -------------------------\n",
    "import time\n",
    "\n",
    "print(\"                                   PostgreSQL\\n-------------------------------------------------------------------------------\")\n",
    "\n",
    "aggregate = 'SELECT AVG(passenger_count) FROM TripData GROUP BY pickup_datetime;'\n",
    "\n",
    "explain = 'EXPLAIN ANALYZE ' + aggregate\n",
    "cursor_postgres.execute(explain)\n",
    "print(\"                                   QUERY PLAN\\n-------------------------------------------------------------------------------\")\n",
    "execution_plan = cursor_postgres.fetchall()\n",
    "for line in execution_plan:\n",
    "    print(line[0])\n",
    "print(\"-------------------------------------------------------------------------------\")\n",
    "\n",
    "print(\"                                   AGGREGATE 2\")\n",
    "number_of_iteration = 10;\n",
    "start_time = time.perf_counter()\n",
    "\n",
    "for x in range(number_of_iteration):\n",
    "    cursor_postgres.execute(aggregate)\n",
    "    # print(cursor_postgres.fetchall())\n",
    "\n",
    "end_time = time.perf_counter()\n",
    "time_lapsed = end_time - start_time\n",
    "print('Average Time Elapsed / sql execution (in sec):')\n",
    "print(time_lapsed / number_of_iteration)"
   ]
  },
  {
   "cell_type": "code",
   "execution_count": 61,
   "id": "f7693e77",
   "metadata": {},
   "outputs": [
    {
     "name": "stdout",
     "output_type": "stream",
     "text": [
      "                                                     DuckDB\n",
      "--------------------------------------------------------------------------------------------------------------------\n",
      "                                                     QUERY PLAN\n",
      "--------------------------------------------------------------------------------------------------------------------\n",
      "[('analyzed_plan', '┌─────────────────────────────────────┐\\n│┌───────────────────────────────────┐│\\n││    Query Profiling Information    ││\\n│└───────────────────────────────────┘│\\n└─────────────────────────────────────┘\\nEXPLAIN ANALYZE SELECT AVG(passenger_count) FROM TripData GROUP BY pickup_datetime;\\n┌─────────────────────────────────────┐\\n│┌───────────────────────────────────┐│\\n││         Total Time: 0.210s        ││\\n│└───────────────────────────────────┘│\\n└─────────────────────────────────────┘\\n┌───────────────────────────┐\\n│      EXPLAIN_ANALYZE      │\\n│   ─ ─ ─ ─ ─ ─ ─ ─ ─ ─ ─   │\\n│             0             │\\n│          (0.00s)          │\\n└─────────────┬─────────────┘                             \\n┌─────────────┴─────────────┐\\n│         PROJECTION        │\\n│   ─ ─ ─ ─ ─ ─ ─ ─ ─ ─ ─   │\\n│    avg(passenger_count)   │\\n│   ─ ─ ─ ─ ─ ─ ─ ─ ─ ─ ─   │\\n│          2303465          │\\n│          (0.00s)          │\\n└─────────────┬─────────────┘                             \\n┌─────────────┴─────────────┐\\n│       HASH_GROUP_BY       │\\n│   ─ ─ ─ ─ ─ ─ ─ ─ ─ ─ ─   │\\n│             #0            │\\n│          avg(#1)          │\\n│   ─ ─ ─ ─ ─ ─ ─ ─ ─ ─ ─   │\\n│          2303465          │\\n│          (3.19s)          │\\n└─────────────┬─────────────┘                             \\n┌─────────────┴─────────────┐\\n│         PROJECTION        │\\n│   ─ ─ ─ ─ ─ ─ ─ ─ ─ ─ ─   │\\n│      pickup_datetime      │\\n│      passenger_count      │\\n│   ─ ─ ─ ─ ─ ─ ─ ─ ─ ─ ─   │\\n│          14776615         │\\n│          (0.00s)          │\\n└─────────────┬─────────────┘                             \\n┌─────────────┴─────────────┐\\n│         SEQ_SCAN          │\\n│   ─ ─ ─ ─ ─ ─ ─ ─ ─ ─ ─   │\\n│          TripData         │\\n│   ─ ─ ─ ─ ─ ─ ─ ─ ─ ─ ─   │\\n│      pickup_datetime      │\\n│      passenger_count      │\\n│   ─ ─ ─ ─ ─ ─ ─ ─ ─ ─ ─   │\\n│        EC: 14776615       │\\n│   ─ ─ ─ ─ ─ ─ ─ ─ ─ ─ ─   │\\n│          14776615         │\\n│          (0.03s)          │\\n└───────────────────────────┘                             \\n')]\n",
      "--------------------------------------------------------------------------------------------------------------------\n",
      "                                                     AGGREGATE 2\n",
      "Average Time Elapsed / sql execution (in sec):\n",
      "0.10415717620053329\n"
     ]
    }
   ],
   "source": [
    "# ------------------------- Aggregate 2 -------------------------\n",
    "import time\n",
    "\n",
    "print(\"                                                     DuckDB\\n--------------------------------------------------------------------------------\")\n",
    "\n",
    "aggregate = 'SELECT AVG(passenger_count) FROM TripData GROUP BY pickup_datetime;'\n",
    "\n",
    "explain = 'EXPLAIN ANALYZE ' + aggregate\n",
    "cursor_duckdb.execute(explain)\n",
    "print(\"                                   QUERY PLAN\\n-------------------------------------------------------------------------------\")\n",
    "print(cursor_duckdb.fetchall())\n",
    "print(\"-------------------------------------------------------------------------------\")\n",
    "\n",
    "print(\"                                                     AGGREGATE 2\")\n",
    "number_of_iteration = 5;\n",
    "start_time = time.perf_counter()\n",
    "\n",
    "for x in range(number_of_iteration):\n",
    "    cursor_duckdb.execute(aggregate)\n",
    "    # print(cursor_duckdb.fetchall())\n",
    "\n",
    "end_time = time.perf_counter()\n",
    "time_lapsed = end_time - start_time\n",
    "print('Average Time Elapsed / sql execution (in sec):')\n",
    "print(time_lapsed / number_of_iteration)"
   ]
  },
  {
   "cell_type": "markdown",
   "id": "9764ea57",
   "metadata": {},
   "source": [
    "### Aggregate 3"
   ]
  },
  {
   "cell_type": "code",
   "execution_count": 19,
   "id": "210a5864",
   "metadata": {},
   "outputs": [
    {
     "name": "stdout",
     "output_type": "stream",
     "text": [
      "                                   PostgreSQL\n",
      "-------------------------------------------------------------------------------\n",
      "                                   QUERY PLAN\n",
      "-------------------------------------------------------------------------------\n",
      "Subquery Scan on taxisstats  (cost=830413.66..833860.82 rows=4269 width=32) (actual time=3738.176..3760.707 rows=5588 loops=1)\n",
      "  InitPlan 1 (returns $1)\n",
      "    ->  Finalize Aggregate  (cost=399313.75..399313.76 rows=1 width=8) (actual time=1367.873..1367.932 rows=1 loops=1)\n",
      "          ->  Gather  (cost=399313.54..399313.75 rows=2 width=32) (actual time=1367.751..1367.913 rows=3 loops=1)\n",
      "                Workers Planned: 2\n",
      "                Workers Launched: 2\n",
      "                ->  Partial Aggregate  (cost=398313.54..398313.55 rows=1 width=32) (actual time=1354.580..1354.581 rows=1 loops=3)\n",
      "                      ->  Parallel Seq Scan on tripdata tripdata_1  (cost=0.00..382921.23 rows=6156923 width=8) (actual time=0.010..1014.309 rows=4925538 loops=3)\n",
      "  ->  Finalize GroupAggregate  (cost=431099.89..434504.37 rows=4269 width=73) (actual time=3738.173..3760.330 rows=5588 loops=1)\n",
      "        Group Key: tripdata.medallion\n",
      "        Filter: (avg(tripdata.trip_distance) > $1)\n",
      "        Rows Removed by Filter: 7838\n",
      "        ->  Gather Merge  (cost=431099.89..434088.17 rows=25612 width=97) (actual time=2370.221..2383.725 rows=40196 loops=1)\n",
      "              Workers Planned: 2\n",
      "              Workers Launched: 2\n",
      "              ->  Sort  (cost=430099.87..430131.89 rows=12806 width=97) (actual time=2354.545..2356.213 rows=13399 loops=3)\n",
      "                    Sort Key: tripdata.medallion\n",
      "                    Sort Method: quicksort  Memory: 2269kB\n",
      "                    Worker 0:  Sort Method: quicksort  Memory: 2269kB\n",
      "                    Worker 1:  Sort Method: quicksort  Memory: 2267kB\n",
      "                    ->  Partial HashAggregate  (cost=429098.15..429226.21 rows=12806 width=97) (actual time=2337.738..2340.298 rows=13399 loops=3)\n",
      "                          Group Key: tripdata.medallion\n",
      "                          Batches: 1  Memory Usage: 3985kB\n",
      "                          Worker 0:  Batches: 1  Memory Usage: 4369kB\n",
      "                          Worker 1:  Batches: 1  Memory Usage: 3985kB\n",
      "                          ->  Parallel Seq Scan on tripdata  (cost=0.00..382921.23 rows=6156923 width=45) (actual time=0.015..1181.619 rows=4925538 loops=3)\n",
      "Planning Time: 0.446 ms\n",
      "JIT:\n",
      "  Functions: 37\n",
      "  Options: Inlining true, Optimization true, Expressions true, Deforming true\n",
      "  Timing: Generation 2.209 ms, Inlining 215.538 ms, Optimization 260.989 ms, Emission 225.526 ms, Total 704.261 ms\n",
      "Execution Time: 3762.117 ms\n",
      "-------------------------------------------------------------------------------\n",
      "                                  AGGREGATE 3\n",
      "Average Time Elapsed / sql execution (in sec):\n",
      "3.0424208417000047\n"
     ]
    }
   ],
   "source": [
    "# ------------------------- Aggregate 3 -------------------------\n",
    "import time\n",
    "\n",
    "print(\"                                   PostgreSQL\\n-------------------------------------------------------------------------------\")\n",
    "\n",
    "# Taxis' stats\n",
    "query = 'SELECT medallion, AVG(passenger_count) as avg_pass_count, AVG(trip_distance) as avg_trip_dist FROM TripData GROUP BY medallion'\n",
    "global_avg = 'SELECT AVG(trip_distance) FROM TripData'\n",
    "\n",
    "aggregate = 'SELECT avg_pass_count FROM (' + query + ') as taxisStats WHERE avg_trip_dist > (' + global_avg + ');'\n",
    "\n",
    "explain = 'EXPLAIN ANALYZE ' + aggregate\n",
    "cursor_postgres.execute(explain)\n",
    "print(\"                                   QUERY PLAN\\n-------------------------------------------------------------------------------\")\n",
    "execution_plan = cursor_postgres.fetchall()\n",
    "for line in execution_plan:\n",
    "    print(line[0])\n",
    "print(\"-------------------------------------------------------------------------------\")\n",
    "\n",
    "\n",
    "print(\"                                  AGGREGATE 3\")\n",
    "number_of_iteration = 10;\n",
    "start_time = time.perf_counter()\n",
    "\n",
    "for x in range(number_of_iteration):\n",
    "\n",
    "    # cursor_postgres.execute(query)\n",
    "    # print('(medallion, avg_passenger_count, avg_trip_dist):')\n",
    "    # print(cursor_postgres.fetchall())\n",
    "    # print(\"-------------\")\n",
    "\n",
    "    # cursor_postgres.execute(global_avg)\n",
    "    # print('global avg trip distance:')\n",
    "    # print(cursor_postgres.fetchall())\n",
    "    # print(\"-------------\")\n",
    "\n",
    "    cursor_postgres.execute(aggregate)\n",
    "    # print('A3:')\n",
    "    # print(cursor_postgres.fetchall())\n",
    "    # print(\"-------------\")\n",
    "\n",
    "\n",
    "end_time = time.perf_counter()\n",
    "time_lapsed = end_time - start_time\n",
    "print('Average Time Elapsed / sql execution (in sec):')\n",
    "print(time_lapsed / number_of_iteration)"
   ]
  },
  {
   "cell_type": "code",
   "execution_count": null,
   "id": "56dfab5d",
   "metadata": {},
   "outputs": [
    {
     "name": "stdout",
     "output_type": "stream",
     "text": [
      "                                                     DuckDB\n",
      "--------------------------------------------------------------------------------------------------------------------\n",
      "                                                     QUERY PLAN\n",
      "--------------------------------------------------------------------------------------------------------------------\n",
      "[]\n",
      "--------------------------------------------------------------------------------------------------------------------\n",
      "                                                     AGGREGATE 3\n"
     ]
    }
   ],
   "source": [
    "# ------------------------- Aggregate 3 -------------------------\n",
    "import time\n",
    "\n",
    "print(\"                                                     DuckDB\\n--------------------------------------------------------------------------------\")\n",
    "\n",
    "# Taxis' stats\n",
    "query = 'SELECT medallion, AVG(passenger_count) as avg_pass_count, AVG(trip_distance) as avg_trip_dist FROM TripData GROUP BY medallion'\n",
    "global_avg = 'SELECT AVG(trip_distance) FROM TripData'\n",
    "\n",
    "aggregate = 'SELECT avg_pass_count FROM (' + query + ') as taxisStats WHERE avg_trip_dist > (' + global_avg + ');'\n",
    "\n",
    "explain = 'EXPLAIN ANALYZE ' + aggregate\n",
    "cursor_duckdb.execute(explain)\n",
    "print(\"                                   QUERY PLAN\\n-------------------------------------------------------------------------------\")\n",
    "print(cursor_duckdb.fetchall())\n",
    "print(\"-------------------------------------------------------------------------------\")\n",
    "\n",
    "\n",
    "print(\"                                                     AGGREGATE 3\")\n",
    "number_of_iteration = 10;\n",
    "start_time = time.perf_counter()\n",
    "\n",
    "for x in range(number_of_iteration):\n",
    "    cursor_duckdb.execute(aggregate)\n",
    "\n",
    "end_time = time.perf_counter()\n",
    "time_lapsed = end_time - start_time\n",
    "print('Average Time Elapsed / sql execution (in sec):')\n",
    "print(time_lapsed / number_of_iteration)"
   ]
  },
  {
   "cell_type": "markdown",
   "id": "671bd23e",
   "metadata": {},
   "source": [
    "## Comparison\n",
    "\n",
    "|                              |Query 0    |Query 1    |Query 2    |Aggregate 1|Aggregate 2|Aggregate 3|\n",
    "|------------------------------|-----------|-----------|-----------|-----------|-----------|-----------|\n",
    "|postgresql no opti            | 2.6890s   | 15.3270s  | 20.8068s  | 5.4380s   | 28.3206s ~ 19.3993s  | 6.0251s   |\n",
    "|postgresql index on medallion |           |           |           | 6.2733s   | 24.6855s  | 8.1786s   |\n",
    "|duckDB no opti                | 0.0003s   | 0.0004s   | 0.0003s   | 0.0885s   | 0.1041s   | 0.0017s   |"
   ]
  },
  {
   "cell_type": "markdown",
   "id": "540e5b14",
   "metadata": {},
   "source": [
    "## Physical Plan (in the first archive)\n",
    "\n",
    "### PostgreSQL\n",
    "\n",
    "- Query 0\n",
    "    ```\n",
    "    Bitmap Heap Scan on tripdata  (cost=17.50..4433.00 rows=1154 width=140)\n",
    "  Recheck Cond: ((medallion)::text = '0BD7C8F5BA12B88E0B67BED28BEA73D8'::text)\n",
    "  ->  Bitmap Index Scan on index  (cost=0.00..17.21 rows=1154 width=0)\n",
    "        Index Cond: ((medallion)::text = '0BD7C8F5BA12B88E0B67BED28BEA73D8'::text)\n",
    "    ```\n",
    "- Query 1\n",
    "    ```\n",
    "    Seq Scan on tripdata  (cost=0.00..506058.69 rows=4308861 width=140)\n",
    "  Filter: (passenger_count >= 2)\n",
    "JIT:\n",
    "  Functions: 2\n",
    "  Options: Inlining true, Optimization true, Expressions true, Deforming true\n",
    "    ```\n",
    "- Query 2\n",
    "    ```\n",
    "    Seq Scan on tripdata  (cost=0.00..506058.69 rows=10467754 width=140)\n",
    "  Filter: (passenger_count = 1)\n",
    "JIT:\n",
    "  Functions: 2\n",
    "  Options: Inlining true, Optimization true, Expressions true, Deforming true\n",
    "    ```\n",
    "- Aggregate 1\n",
    "    ```\n",
    "    Finalize GroupAggregate  (cost=422117.32..425379.40 rows=12750 width=41)\n",
    "  Group Key: medallion\n",
    "  ->  Gather Merge  (cost=422117.32..425092.52 rows=25500 width=65)\n",
    "        Workers Planned: 2\n",
    "        ->  Sort  (cost=421117.29..421149.17 rows=12750 width=65)\n",
    "              Sort Key: medallion\n",
    "              ->  Partial HashAggregate  (cost=420120.36..420247.86 rows=12750 width=65)\n",
    "                    Group Key: medallion\n",
    "                    ->  Parallel Seq Scan on tripdata  (cost=0.00..398312.54 rows=4361564 width=41)\n",
    "                          Filter: (passenger_count = 1)\n",
    "JIT:\n",
    "  Functions: 9\n",
    "  Options: Inlining false, Optimization false, Expressions true, Deforming true\n",
    "    ```\n",
    "- Aggregate 2\n",
    "    ```\n",
    "    Finalize GroupAggregate  (cost=856301.62..893361.70 rows=144851 width=40)\n",
    "  Group Key: pickup_datetime\n",
    "  ->  Gather Merge  (cost=856301.62..890102.55 rows=289702 width=40)\n",
    "        Workers Planned: 2\n",
    "        ->  Sort  (cost=855301.60..855663.73 rows=144851 width=40)\n",
    "              Sort Key: pickup_datetime\n",
    "              ->  Partial HashAggregate  (cost=777348.11..838922.82 rows=144851 width=40)\n",
    "                    Group Key: pickup_datetime\n",
    "                    Planned Partitions: 4\n",
    "                    ->  Parallel Seq Scan on tripdata  (cost=0.00..382920.23 rows=6156923 width=12)\n",
    "JIT:\n",
    "  Functions: 7\n",
    "  Options: Inlining true, Optimization true, Expressions true, Deforming true\n",
    "    ```\n",
    "- Aggregate 3\n",
    "    ```\n",
    "    Subquery Scan on taxisstats  (cost=830406.88..833838.96 rows=4250 width=32)\n",
    "  InitPlan 1 (returns $1)\n",
    "    ->  Finalize Aggregate  (cost=399312.75..399312.76 rows=1 width=8)\n",
    "          ->  Gather  (cost=399312.54..399312.75 rows=2 width=32)\n",
    "                Workers Planned: 2\n",
    "                ->  Partial Aggregate  (cost=398312.54..398312.55 rows=1 width=32)\n",
    "                      ->  Parallel Seq Scan on tripdata tripdata_1  (cost=0.00..382920.23 rows=6156923 width=8)\n",
    "  ->  Finalize GroupAggregate  (cost=431094.11..434483.69 rows=4250 width=73)\n",
    "        Group Key: tripdata.medallion\n",
    "        Filter: (avg(tripdata.trip_distance) > $1)\n",
    "        ->  Gather Merge  (cost=431094.11..434069.32 rows=25500 width=97)\n",
    "              Workers Planned: 2\n",
    "              ->  Sort  (cost=430094.09..430125.96 rows=12750 width=97)\n",
    "                    Sort Key: tripdata.medallion\n",
    "                    ->  Partial HashAggregate  (cost=429097.15..429224.65 rows=12750 width=97)\n",
    "                          Group Key: tripdata.medallion\n",
    "                          ->  Parallel Seq Scan on tripdata  (cost=0.00..382920.23 rows=6156923 width=45)\n",
    "JIT:\n",
    "  Functions: 14\n",
    "  Options: Inlining true, Optimization true, Expressions true, Deforming true\n",
    "    ```\n",
    "\n",
    "### DuckDB\n",
    "\n",
    "- Query 0\n",
    "    ```\n",
    "    [('physical_plan', '┌───────────────────────────┐\\n│         SEQ_SCAN          │\\n│   ─ ─ ─ ─ ─ ─ ─ ─ ─ ─ ─   │\\n│       TripDataSample      │\\n│   ─ ─ ─ ─ ─ ─ ─ ─ ─ ─ ─   │\\n│         medallion         │\\n│        hack_licence       │\\n│         vendor_id         │\\n│         rate_code         │\\n│     store_and_fwd_flag    │\\n│      pickup_datetime      │\\n│      dropoff_datetime     │\\n│      passenger_count      │\\n│     trip_time_in_secs     │\\n│       trip_distance       │\\n│      pickup_longitude     │\\n│      pickup_latitude      │\\n│     dropoff_longitude     │\\n│      dropoff_latitude     │\\n│   ─ ─ ─ ─ ─ ─ ─ ─ ─ ─ ─   │\\n│     Filters: medallion    │\\n│=0BD7C8F5BA12B88E0B67B...  │\\n│  AND medallion IS NOT NULL│\\n│   ─ ─ ─ ─ ─ ─ ─ ─ ─ ─ ─   │\\n│           EC: 2           │\\n└───────────────────────────┘                             \\n')]\n",
    "    ```\n",
    "- Query 1\n",
    "    ```\n",
    "    [('physical_plan', '┌───────────────────────────┐\\n│         PROJECTION        │\\n│   ─ ─ ─ ─ ─ ─ ─ ─ ─ ─ ─   │\\n│         medallion         │\\n│        hack_licence       │\\n│         vendor_id         │\\n│         rate_code         │\\n│     store_and_fwd_flag    │\\n│      pickup_datetime      │\\n│      dropoff_datetime     │\\n│      passenger_count      │\\n│     trip_time_in_secs     │\\n│       trip_distance       │\\n│      pickup_longitude     │\\n│      pickup_latitude      │\\n│     dropoff_longitude     │\\n│      dropoff_latitude     │\\n└─────────────┬─────────────┘                             \\n┌─────────────┴─────────────┐\\n│         SEQ_SCAN          │\\n│   ─ ─ ─ ─ ─ ─ ─ ─ ─ ─ ─   │\\n│       TripDataSample      │\\n│   ─ ─ ─ ─ ─ ─ ─ ─ ─ ─ ─   │\\n│      passenger_count      │\\n│         medallion         │\\n│        hack_licence       │\\n│         vendor_id         │\\n│         rate_code         │\\n│     store_and_fwd_flag    │\\n│      pickup_datetime      │\\n│      dropoff_datetime     │\\n│     trip_time_in_secs     │\\n│       trip_distance       │\\n│      pickup_longitude     │\\n│      pickup_latitude      │\\n│     dropoff_longitude     │\\n│      dropoff_latitude     │\\n│   ─ ─ ─ ─ ─ ─ ─ ─ ─ ─ ─   │\\n│Filters: passenger_count>=2│\\n│ AND passenger_count IS NOT│\\n│            NULL           │\\n│   ─ ─ ─ ─ ─ ─ ─ ─ ─ ─ ─   │\\n│           EC: 1           │\\n└───────────────────────────┘                             \\n')]\n",
    "    ```\n",
    "- Query 2\n",
    "    ```\n",
    "    [('physical_plan', '┌───────────────────────────┐\\n│         PROJECTION        │\\n│   ─ ─ ─ ─ ─ ─ ─ ─ ─ ─ ─   │\\n│         medallion         │\\n│        hack_licence       │\\n│         vendor_id         │\\n│         rate_code         │\\n│     store_and_fwd_flag    │\\n│      pickup_datetime      │\\n│      dropoff_datetime     │\\n│      passenger_count      │\\n│     trip_time_in_secs     │\\n│       trip_distance       │\\n│      pickup_longitude     │\\n│      pickup_latitude      │\\n│     dropoff_longitude     │\\n│      dropoff_latitude     │\\n└─────────────┬─────────────┘                             \\n┌─────────────┴─────────────┐\\n│         SEQ_SCAN          │\\n│   ─ ─ ─ ─ ─ ─ ─ ─ ─ ─ ─   │\\n│       TripDataSample      │\\n│   ─ ─ ─ ─ ─ ─ ─ ─ ─ ─ ─   │\\n│      passenger_count      │\\n│         medallion         │\\n│        hack_licence       │\\n│         vendor_id         │\\n│         rate_code         │\\n│     store_and_fwd_flag    │\\n│      pickup_datetime      │\\n│      dropoff_datetime     │\\n│     trip_time_in_secs     │\\n│       trip_distance       │\\n│      pickup_longitude     │\\n│      pickup_latitude      │\\n│     dropoff_longitude     │\\n│      dropoff_latitude     │\\n│   ─ ─ ─ ─ ─ ─ ─ ─ ─ ─ ─   │\\n│ Filters: passenger_count=1│\\n│ AND passenger_count IS NOT│\\n│            NULL           │\\n│   ─ ─ ─ ─ ─ ─ ─ ─ ─ ─ ─   │\\n│           EC: 3           │\\n└───────────────────────────┘                             \\n')]\n",
    "    ```\n",
    "- Aggregate 1\n",
    "    ```\n",
    "    [('physical_plan', '┌───────────────────────────┐\\n│       HASH_GROUP_BY       │\\n│   ─ ─ ─ ─ ─ ─ ─ ─ ─ ─ ─   │\\n│             #0            │\\n│          avg(#1)          │\\n└─────────────┬─────────────┘                             \\n┌─────────────┴─────────────┐\\n│         PROJECTION        │\\n│   ─ ─ ─ ─ ─ ─ ─ ─ ─ ─ ─   │\\n│         medallion         │\\n│   CAST(trip_distance AS   │\\n│           DOUBLE)         │\\n└─────────────┬─────────────┘                             \\n┌─────────────┴─────────────┐\\n│         SEQ_SCAN          │\\n│   ─ ─ ─ ─ ─ ─ ─ ─ ─ ─ ─   │\\n│       TripDataSample      │\\n│   ─ ─ ─ ─ ─ ─ ─ ─ ─ ─ ─   │\\n│         medallion         │\\n│       trip_distance       │\\n│   ─ ─ ─ ─ ─ ─ ─ ─ ─ ─ ─   │\\n│ Filters: passenger_count=1│\\n│ AND passenger_count IS NOT│\\n│            NULL           │\\n│   ─ ─ ─ ─ ─ ─ ─ ─ ─ ─ ─   │\\n│           EC: 3           │\\n└───────────────────────────┘                             \\n')]\n",
    "    ```\n",
    "- Aggregate 2\n",
    "    ```\n",
    "    [('physical_plan', '┌───────────────────────────┐\\n│         PROJECTION        │\\n│   ─ ─ ─ ─ ─ ─ ─ ─ ─ ─ ─   │\\n│    avg(passenger_count)   │\\n└─────────────┬─────────────┘                             \\n┌─────────────┴─────────────┐\\n│       HASH_GROUP_BY       │\\n│   ─ ─ ─ ─ ─ ─ ─ ─ ─ ─ ─   │\\n│             #0            │\\n│          avg(#1)          │\\n└─────────────┬─────────────┘                             \\n┌─────────────┴─────────────┐\\n│         PROJECTION        │\\n│   ─ ─ ─ ─ ─ ─ ─ ─ ─ ─ ─   │\\n│      pickup_datetime      │\\n│      passenger_count      │\\n└─────────────┬─────────────┘                             \\n┌─────────────┴─────────────┐\\n│         SEQ_SCAN          │\\n│   ─ ─ ─ ─ ─ ─ ─ ─ ─ ─ ─   │\\n│       TripDataSample      │\\n│   ─ ─ ─ ─ ─ ─ ─ ─ ─ ─ ─   │\\n│      pickup_datetime      │\\n│      passenger_count      │\\n│   ─ ─ ─ ─ ─ ─ ─ ─ ─ ─ ─   │\\n│           EC: 9           │\\n└───────────────────────────┘                             \\n')]\n",
    "    ```\n",
    "- Aggregate 3\n",
    "    ```\n",
    "    [('physical_plan', '┌───────────────────────────┐                             \\n│         PROJECTION        │                             \\n│   ─ ─ ─ ─ ─ ─ ─ ─ ─ ─ ─   │                             \\n│       avg_pass_count      │                             \\n└─────────────┬─────────────┘                                                          \\n┌─────────────┴─────────────┐                             \\n│      NESTED_LOOP_JOIN     │                             \\n│   ─ ─ ─ ─ ─ ─ ─ ─ ─ ─ ─   │                             \\n│           INNER           │                             \\n│  avg_trip_dist > SUBQUERY ├──────────────┐              \\n│   ─ ─ ─ ─ ─ ─ ─ ─ ─ ─ ─   │              │              \\n│           EC: 40          │              │              \\n└─────────────┬─────────────┘              │                                           \\n┌─────────────┴─────────────┐┌─────────────┴─────────────┐\\n│         PROJECTION        ││    UNGROUPED_AGGREGATE    │\\n│   ─ ─ ─ ─ ─ ─ ─ ─ ─ ─ ─   ││   ─ ─ ─ ─ ─ ─ ─ ─ ─ ─ ─   │\\n│       avg_pass_count      ││         first(#0)         │\\n│       avg_trip_dist       ││                           │\\n└─────────────┬─────────────┘└─────────────┬─────────────┘                             \\n┌─────────────┴─────────────┐┌─────────────┴─────────────┐\\n│       HASH_GROUP_BY       ││         PROJECTION        │\\n│   ─ ─ ─ ─ ─ ─ ─ ─ ─ ─ ─   ││   ─ ─ ─ ─ ─ ─ ─ ─ ─ ─ ─   │\\n│             #0            ││             #0            │\\n│          avg(#1)          ││                           │\\n│          avg(#2)          ││                           │\\n└─────────────┬─────────────┘└─────────────┬─────────────┘                             \\n┌─────────────┴─────────────┐┌─────────────┴─────────────┐\\n│         PROJECTION        ││      STREAMING_LIMIT      │\\n│   ─ ─ ─ ─ ─ ─ ─ ─ ─ ─ ─   ││                           │\\n│         medallion         ││                           │\\n│      passenger_count      ││                           │\\n│   CAST(trip_distance AS   ││                           │\\n│           DOUBLE)         ││                           │\\n└─────────────┬─────────────┘└─────────────┬─────────────┘                             \\n┌─────────────┴─────────────┐┌─────────────┴─────────────┐\\n│         SEQ_SCAN          ││    UNGROUPED_AGGREGATE    │\\n│   ─ ─ ─ ─ ─ ─ ─ ─ ─ ─ ─   ││   ─ ─ ─ ─ ─ ─ ─ ─ ─ ─ ─   │\\n│       TripDataSample      ││          avg(#0)          │\\n│   ─ ─ ─ ─ ─ ─ ─ ─ ─ ─ ─   ││                           │\\n│         medallion         ││                           │\\n│      passenger_count      ││                           │\\n│       trip_distance       ││                           │\\n│   ─ ─ ─ ─ ─ ─ ─ ─ ─ ─ ─   ││                           │\\n│           EC: 18          ││                           │\\n└───────────────────────────┘└─────────────┬─────────────┘                             \\n                             ┌─────────────┴─────────────┐\\n                             │         PROJECTION        │\\n                             │   ─ ─ ─ ─ ─ ─ ─ ─ ─ ─ ─   │\\n                             │   CAST(trip_distance AS   │\\n                             │           DOUBLE)         │\\n                             └─────────────┬─────────────┘                             \\n                             ┌─────────────┴─────────────┐\\n                             │         SEQ_SCAN          │\\n                             │   ─ ─ ─ ─ ─ ─ ─ ─ ─ ─ ─   │\\n                             │       TripDataSample      │\\n                             │   ─ ─ ─ ─ ─ ─ ─ ─ ─ ─ ─   │\\n                             │       trip_distance       │\\n                             │   ─ ─ ─ ─ ─ ─ ─ ─ ─ ─ ─   │\\n                             │           EC: 18          │\\n                             └───────────────────────────┘                             \\n')]\n",
    "    ```"
   ]
  },
  {
   "cell_type": "markdown",
   "id": "95820dae",
   "metadata": {},
   "source": [
    "## Compare DuckDB and PostgreSQL\n",
    "\n",
    "- OLAP vs OLTP"
   ]
  },
  {
   "cell_type": "code",
   "execution_count": null,
   "id": "7b92dbc8",
   "metadata": {},
   "outputs": [],
   "source": [
    "# Closing the connection \n",
    "conn.close()"
   ]
  }
 ],
 "metadata": {
  "kernelspec": {
   "display_name": "Python 3 (ipykernel)",
   "language": "python",
   "name": "python3"
  },
  "language_info": {
   "codemirror_mode": {
    "name": "ipython",
    "version": 3
   },
   "file_extension": ".py",
   "mimetype": "text/x-python",
   "name": "python",
   "nbconvert_exporter": "python",
   "pygments_lexer": "ipython3",
   "version": "3.11.6"
  }
 },
 "nbformat": 4,
 "nbformat_minor": 5
}
