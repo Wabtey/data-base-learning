{
 "cells": [
  {
   "cell_type": "markdown",
   "id": "f22a0735",
   "metadata": {},
   "source": [
    "# Data Base\n",
    "\n",
    "Florian EPAIN\n",
    "20105403, MASTER IL group 3"
   ]
  },
  {
   "cell_type": "markdown",
   "id": "0781e302",
   "metadata": {},
   "source": [
    "## Belatedly Installation\n",
    "\n",
    "We can visualize blank `.csv` file using `vscode` and the extension `Rainbow CSV`.\n",
    "\n",
    "### Docs\n",
    "\n",
    "- I used the [Psycopg2 tutorials](https://www.psycopg.org/docs/install.html#quick-install) to connect my notebook to my database.\n",
    "- [SQL Datatypes](https://www.w3schools.com/sql/sql_datatypes.asp)"
   ]
  },
  {
   "cell_type": "code",
   "execution_count": null,
   "id": "5fc77b17",
   "metadata": {},
   "outputs": [
    {
     "name": "stdout",
     "output_type": "stream",
     "text": [
      "Defaulting to user installation because normal site-packages is not writeable\n",
      "Requirement already satisfied: pip in /usr/lib/python3/dist-packages (22.0.2)\n",
      "Collecting pip\n",
      "  Downloading pip-23.2.1-py3-none-any.whl (2.1 MB)\n",
      "\u001b[2K     \u001b[38;2;114;156;31m━━━━━━━━━━━━━━━━━━━━━━━━━━━━━━━━━━━━━━━━\u001b[0m \u001b[32m2.1/2.1 MB\u001b[0m \u001b[31m16.2 MB/s\u001b[0m eta \u001b[36m0:00:00\u001b[0mm eta \u001b[36m0:00:01\u001b[0m[36m0:00:01\u001b[0m\n",
      "\u001b[?25hInstalling collected packages: pip\n",
      "\u001b[33m  WARNING: The scripts pip, pip3, pip3.10 and pip3.11 are installed in '/private/student/n/in/fepain/.local/bin' which is not on PATH.\n",
      "  Consider adding this directory to PATH or, if you prefer to suppress this warning, use --no-warn-script-location.\u001b[0m\u001b[33m\n",
      "\u001b[0mSuccessfully installed pip-23.2.1\n"
     ]
    }
   ],
   "source": [
    "!pip install -U pip"
   ]
  },
  {
   "cell_type": "code",
   "execution_count": null,
   "id": "84bf7fd3",
   "metadata": {},
   "outputs": [
    {
     "name": "stdout",
     "output_type": "stream",
     "text": [
      "Defaulting to user installation because normal site-packages is not writeable\n",
      "Collecting psycopg2-binary\n",
      "  Downloading psycopg2_binary-2.9.9-cp310-cp310-manylinux_2_17_x86_64.manylinux2014_x86_64.whl (3.0 MB)\n",
      "\u001b[2K     \u001b[38;2;114;156;31m━━━━━━━━━━━━━━━━━━━━━━━━━━━━━━━━━━━━━━━━\u001b[0m \u001b[32m3.0/3.0 MB\u001b[0m \u001b[31m17.6 MB/s\u001b[0m eta \u001b[36m0:00:00\u001b[0mm eta \u001b[36m0:00:01\u001b[0m0:01\u001b[0m\n",
      "\u001b[?25hInstalling collected packages: psycopg2-binary\n",
      "Successfully installed psycopg2-binary-2.9.9\n"
     ]
    }
   ],
   "source": [
    "!pip install psycopg2-binary"
   ]
  },
  {
   "cell_type": "code",
   "execution_count": null,
   "id": "f2964103",
   "metadata": {},
   "outputs": [],
   "source": [
    "!pip install duckdb==0.9.1"
   ]
  },
  {
   "cell_type": "code",
   "execution_count": 1,
   "id": "99b51e0f",
   "metadata": {},
   "outputs": [],
   "source": [
    "# If the Server postgres is down\n",
    "import duckdb\n",
    "cursor = duckdb.connect()\n",
    "# print(cursor.execute('SELECT 42').fetchall())"
   ]
  },
  {
   "cell_type": "code",
   "execution_count": 1,
   "id": "1edfc169",
   "metadata": {
    "scrolled": true
   },
   "outputs": [
    {
     "name": "stdout",
     "output_type": "stream",
     "text": [
      "········\n"
     ]
    }
   ],
   "source": [
    "import psycopg2\n",
    "from getpass import getpass\n",
    "  \n",
    "# Connection establishment \n",
    "conn = psycopg2.connect( \n",
    "    database=\"fepain\", \n",
    "    user='fepain', \n",
    "    password=getpass(), \n",
    "    host='chausey.istic.univ-rennes1.fr'\n",
    ")\n",
    "  \n",
    "conn.autocommit = True\n",
    "  \n",
    "# Creating a cursor object \n",
    "cursor = conn.cursor()"
   ]
  },
  {
   "cell_type": "code",
   "execution_count": 9,
   "id": "30003e27",
   "metadata": {},
   "outputs": [
    {
     "name": "stdout",
     "output_type": "stream",
     "text": [
      "Table has been created successfully D:\n"
     ]
    }
   ],
   "source": [
    "# Query to create a table \n",
    "sql = ''' CREATE TABLE TripData \n",
    "( \n",
    "    medallion VARCHAR(32), \n",
    "    hack_licence VARCHAR(32), \n",
    "    vendor_id VARCHAR(10), \n",
    "    rate_code INT,\n",
    "    store_and_fwd_flag VARCHAR(10),\n",
    "    pickup_datetime TIMESTAMP,\n",
    "    dropoff_datetime TIMESTAMP,\n",
    "    passenger_count INT,\n",
    "    trip_time_in_secs INT,\n",
    "    trip_distance FLOAT,\n",
    "    pickup_longitude FLOAT,\n",
    "    pickup_latitude FLOAT,\n",
    "    dropoff_longitude FLOAT,\n",
    "    dropoff_latitude FLOAT\n",
    "); '''\n",
    "  \n",
    "# --- Executing above query ---\n",
    "cursor.execute(sql) # duckdb & postgres\n",
    "print(\"Table has been created successfully D:\")"
   ]
  },
  {
   "cell_type": "markdown",
   "id": "db23c384",
   "metadata": {},
   "source": [
    "---\n",
    "\n",
    "We now import the `csv` file, using the [Cursor Copy - tutorials](https://www.psycopg.org/docs/cursor.html#cursor.copy_from) and the [COPY docs](https://www.postgresql.org/docs/current/sql-copy.html). I can't use `copy_from()`, I will use `copy_expert()` as mentionned in this [github issue](https://github.com/psycopg/psycopg2/issues/1294)\n",
    "\n",
    "---"
   ]
  },
  {
   "cell_type": "code",
   "execution_count": 6,
   "id": "11272dfc",
   "metadata": {},
   "outputs": [
    {
     "name": "stdout",
     "output_type": "stream",
     "text": [
      "[]\n"
     ]
    }
   ],
   "source": [
    "# Display the table \n",
    "cursor.execute('SELECT * FROM TripData')\n",
    "print(cursor.fetchall())"
   ]
  },
  {
   "cell_type": "code",
   "execution_count": 2,
   "id": "cac1da77",
   "metadata": {},
   "outputs": [
    {
     "name": "stdout",
     "output_type": "stream",
     "text": [
      "[('89D227B655E5C82AECF13C3F540D4CF4', 'BA96DE419E711691B9445D6A6307C170', 'CMT', 1, 'N', datetime.datetime(2013, 1, 1, 15, 11, 48), datetime.datetime(2013, 1, 1, 15, 18, 10), 4, 382, 1.0, -73.978165, 40.757977, -73.989838, 40.751171), ('0BD7C8F5BA12B88E0B67BED28BEA73D8', '9FD8F69F0804BDB5549F40E9DA1BE472', 'CMT', 1, 'N', datetime.datetime(2013, 1, 6, 0, 18, 35), datetime.datetime(2013, 1, 6, 0, 22, 54), 1, 259, 1.5, -74.006683, 40.731781, -73.994499, 40.75066), ('0BD7C8F5BA12B88E0B67BED28BEA73D8', '9FD8F69F0804BDB5549F40E9DA1BE472', 'CMT', 1, 'N', datetime.datetime(2013, 1, 5, 18, 49, 41), datetime.datetime(2013, 1, 5, 18, 54, 23), 1, 282, 1.1, -74.004707, 40.73777, -74.009834, 40.726002), ('DFD2202EE08F7A8DC9A57B02ACB81FE2', '51EE87E3205C985EF8431D850C786310', 'CMT', 1, 'N', datetime.datetime(2013, 1, 7, 23, 54, 15), datetime.datetime(2013, 1, 7, 23, 58, 20), 2, 244, 0.7, -73.974602, 40.759945, -73.984734, 40.759388), ('DFD2202EE08F7A8DC9A57B02ACB81FE2', '51EE87E3205C985EF8431D850C786310', 'CMT', 1, 'N', datetime.datetime(2013, 1, 7, 23, 25, 3), datetime.datetime(2013, 1, 7, 23, 34, 24), 1, 560, 2.1, -73.97625, 40.748528, -74.002586, 40.747868), ('20D9ECB2CA0767CF7A01564DF2844A3E', '598CCE5B9C1918568DEE71F43CF26CD2', 'CMT', 1, 'N', datetime.datetime(2013, 1, 7, 15, 27, 48), datetime.datetime(2013, 1, 7, 15, 38, 37), 1, 648, 1.7, -73.966743, 40.764252, -73.983322, 40.743763), ('496644932DF3932605C22C7926FF0FE0', '513189AD756FF14FE670D10B92FAF04C', 'CMT', 1, 'N', datetime.datetime(2013, 1, 8, 11, 1, 15), datetime.datetime(2013, 1, 8, 11, 8, 14), 1, 418, 0.8, -73.995804, 40.743977, -74.007416, 40.744343), ('0B57B9633A2FECD3D3B1944AFC7471CF', 'CCD4367B417ED6634D986F573A552A62', 'CMT', 1, 'N', datetime.datetime(2013, 1, 7, 12, 39, 18), datetime.datetime(2013, 1, 7, 13, 10, 56), 3, 1898, 10.7, -73.989937, 40.756775, -73.86525, 40.77063), ('2C0E91FF20A856C891483ED63589F982', '1DA2F6543A62B8ED934771661A9D2FA0', 'CMT', 1, 'N', datetime.datetime(2013, 1, 7, 18, 15, 47), datetime.datetime(2013, 1, 7, 18, 20, 47), 1, 299, 0.8, -73.980072, 40.743137, -73.982712, 40.735336), ('89D227B655E5C82AECF13C3F540D4CF4', 'BA96DE419E711691B9445D6A6307C170', 'CMT', 1, 'N', datetime.datetime(2013, 1, 1, 15, 11, 48), datetime.datetime(2013, 1, 1, 15, 18, 10), 4, 382, 1.0, -73.978165, 40.757977, -73.989838, 40.751171), ('0BD7C8F5BA12B88E0B67BED28BEA73D8', '9FD8F69F0804BDB5549F40E9DA1BE472', 'CMT', 1, 'N', datetime.datetime(2013, 1, 6, 0, 18, 35), datetime.datetime(2013, 1, 6, 0, 22, 54), 1, 259, 1.5, -74.006683, 40.731781, -73.994499, 40.75066), ('0BD7C8F5BA12B88E0B67BED28BEA73D8', '9FD8F69F0804BDB5549F40E9DA1BE472', 'CMT', 1, 'N', datetime.datetime(2013, 1, 5, 18, 49, 41), datetime.datetime(2013, 1, 5, 18, 54, 23), 1, 282, 1.1, -74.004707, 40.73777, -74.009834, 40.726002), ('DFD2202EE08F7A8DC9A57B02ACB81FE2', '51EE87E3205C985EF8431D850C786310', 'CMT', 1, 'N', datetime.datetime(2013, 1, 7, 23, 54, 15), datetime.datetime(2013, 1, 7, 23, 58, 20), 2, 244, 0.7, -73.974602, 40.759945, -73.984734, 40.759388), ('DFD2202EE08F7A8DC9A57B02ACB81FE2', '51EE87E3205C985EF8431D850C786310', 'CMT', 1, 'N', datetime.datetime(2013, 1, 7, 23, 25, 3), datetime.datetime(2013, 1, 7, 23, 34, 24), 1, 560, 2.1, -73.97625, 40.748528, -74.002586, 40.747868), ('20D9ECB2CA0767CF7A01564DF2844A3E', '598CCE5B9C1918568DEE71F43CF26CD2', 'CMT', 1, 'N', datetime.datetime(2013, 1, 7, 15, 27, 48), datetime.datetime(2013, 1, 7, 15, 38, 37), 1, 648, 1.7, -73.966743, 40.764252, -73.983322, 40.743763), ('496644932DF3932605C22C7926FF0FE0', '513189AD756FF14FE670D10B92FAF04C', 'CMT', 1, 'N', datetime.datetime(2013, 1, 8, 11, 1, 15), datetime.datetime(2013, 1, 8, 11, 8, 14), 1, 418, 0.8, -73.995804, 40.743977, -74.007416, 40.744343), ('0B57B9633A2FECD3D3B1944AFC7471CF', 'CCD4367B417ED6634D986F573A552A62', 'CMT', 1, 'N', datetime.datetime(2013, 1, 7, 12, 39, 18), datetime.datetime(2013, 1, 7, 13, 10, 56), 3, 1898, 10.7, -73.989937, 40.756775, -73.86525, 40.77063), ('2C0E91FF20A856C891483ED63589F982', '1DA2F6543A62B8ED934771661A9D2FA0', 'CMT', 1, 'N', datetime.datetime(2013, 1, 7, 18, 15, 47), datetime.datetime(2013, 1, 7, 18, 20, 47), 1, 299, 0.8, -73.980072, 40.743137, -73.982712, 40.735336)]\n"
     ]
    }
   ],
   "source": [
    "# Import Sample CSV in PostgreSQL\n",
    "csv_file_path = \"assets/data/trip_data-sample.csv\"\n",
    "# cursor.copy_from(f, 'TripData')\n",
    "\n",
    "with open(csv_file_path, 'r') as f:\n",
    "    cursor.copy_expert(\n",
    "    \"COPY TripData FROM STDIN With CSV HEADER DELIMITER as ','\",\n",
    "    f)\n",
    "\n",
    "# Display the table \n",
    "cursor.execute('SELECT * FROM TripData')\n",
    "print(cursor.fetchall())"
   ]
  },
  {
   "cell_type": "code",
   "execution_count": 22,
   "id": "4f44dfb0",
   "metadata": {},
   "outputs": [
    {
     "name": "stdout",
     "output_type": "stream",
     "text": [
      "medallion,hack_licence,vendor_id,rate_code,store_and_fwd_flag,pickup_datetime,dropoff_datetime,passenger_count,trip_time_in_secs,trip_distance,pickup_longitude,pickup_latitude,dropoff_longitude,dropoff_latitude\n"
     ]
    }
   ],
   "source": [
    "from sys import stdout\n",
    "\n",
    "cursor.copy_expert(\"COPY TripData TO STDOUT WITH CSV HEADER\", stdout)"
   ]
  },
  {
   "cell_type": "code",
   "execution_count": 3,
   "id": "fc2f5ee0",
   "metadata": {},
   "outputs": [
    {
     "name": "stdout",
     "output_type": "stream",
     "text": [
      "[(9,)]\n"
     ]
    }
   ],
   "source": [
    "# Import Sample CSV in DuckDB\n",
    "\n",
    "# cursor.execute('SELECT * FROM \\'trip_data-sample.csv\\';')\n",
    "# print(cursor.fetchall())\n",
    "\n",
    "sql = ''' COPY TripData FROM 'trip_data-sample.csv' With CSV HEADER DELIMITER as ','; '''\n",
    "cursor.execute(sql)\n",
    "print(cursor.fetchall())"
   ]
  },
  {
   "cell_type": "code",
   "execution_count": 8,
   "id": "7911944f",
   "metadata": {},
   "outputs": [],
   "source": [
    "# Drop the table \n",
    "cursor.execute('DROP TABLE TripData')"
   ]
  },
  {
   "cell_type": "markdown",
   "id": "fb30c70c",
   "metadata": {},
   "source": [
    "---\n",
    "\n",
    "Big CSV Import\n",
    "\n",
    "---"
   ]
  },
  {
   "cell_type": "code",
   "execution_count": 11,
   "id": "f7526870",
   "metadata": {},
   "outputs": [],
   "source": [
    "# Import CSV in PostgreSQL\n",
    "csv_file_path = \"trip_data_1.csv\"\n",
    "# cursor.copy_from(f, 'TripData')\n",
    "\n",
    "with open(csv_file_path, 'r') as f:\n",
    "    cursor.copy_expert(\n",
    "    \"COPY TripData FROM STDIN With CSV HEADER DELIMITER as ','\",\n",
    "    f)"
   ]
  },
  {
   "cell_type": "code",
   "execution_count": 3,
   "id": "8609faf3",
   "metadata": {},
   "outputs": [
    {
     "name": "stdout",
     "output_type": "stream",
     "text": [
      "[(14776615,)]\n"
     ]
    }
   ],
   "source": [
    "# Import Big CSV in DuckDB\n",
    "\n",
    "# cursor.execute('SELECT * FROM \\'trip_data_1.csv\\';')\n",
    "# print(cursor.fetchall())\n",
    "\n",
    "sql = ''' COPY Trip FROM 'trip_data_1.csv' With CSV HEADER DELIMITER as ','; '''\n",
    "cursor.execute(sql)\n",
    "print(cursor.fetchall())"
   ]
  },
  {
   "cell_type": "markdown",
   "id": "931a84b9",
   "metadata": {},
   "source": [
    "# Analyze Queries\n",
    "\n",
    "\n",
    "- [EXPLAIN docs](https://www.postgresql.org/docs/current/sql-explain.html)\n",
    "- <https://explain.dalibo.com/>"
   ]
  },
  {
   "cell_type": "code",
   "execution_count": 9,
   "id": "8b43aa1f",
   "metadata": {},
   "outputs": [
    {
     "name": "stdout",
     "output_type": "stream",
     "text": [
      "[('0BD7C8F5BA12B88E0B67BED28BEA73D8', '9FD8F69F0804BDB5549F40E9DA1BE472', 'CMT', 1, 'N', datetime.datetime(2013, 1, 6, 0, 18, 35), datetime.datetime(2013, 1, 6, 0, 22, 54), 1, 259, 1.5, -74.00668334960938, 40.731781005859375, -73.99449920654297, 40.75065994262695), ('0BD7C8F5BA12B88E0B67BED28BEA73D8', '9FD8F69F0804BDB5549F40E9DA1BE472', 'CMT', 1, 'N', datetime.datetime(2013, 1, 5, 18, 49, 41), datetime.datetime(2013, 1, 5, 18, 54, 23), 1, 282, 1.100000023841858, -74.00470733642578, 40.737770080566406, -74.00983428955078, 40.72600173950195)]\n",
      "-------------\n",
      "[('physical_plan', '┌───────────────────────────┐\\n│         SEQ_SCAN          │\\n│   ─ ─ ─ ─ ─ ─ ─ ─ ─ ─ ─   │\\n│       TripDataSample      │\\n│   ─ ─ ─ ─ ─ ─ ─ ─ ─ ─ ─   │\\n│         medallion         │\\n│        hack_licence       │\\n│         vendor_id         │\\n│         rate_code         │\\n│     store_and_fwd_flag    │\\n│      pickup_datetime      │\\n│      dropoff_datetime     │\\n│      passenger_count      │\\n│     trip_time_in_secs     │\\n│       trip_distance       │\\n│      pickup_longitude     │\\n│      pickup_latitude      │\\n│     dropoff_longitude     │\\n│      dropoff_latitude     │\\n│   ─ ─ ─ ─ ─ ─ ─ ─ ─ ─ ─   │\\n│     Filters: medallion    │\\n│=0BD7C8F5BA12B88E0B67B...  │\\n│  AND medallion IS NOT NULL│\\n│   ─ ─ ─ ─ ─ ─ ─ ─ ─ ─ ─   │\\n│           EC: 2           │\\n└───────────────────────────┘                             \\n')]\n"
     ]
    }
   ],
   "source": [
    "# Query 0\n",
    "query = 'SELECT * FROM TripData WHERE medallion = \\'0BD7C8F5BA12B88E0B67BED28BEA73D8\\';'\n",
    "cursor.execute(query)\n",
    "print(cursor.fetchall())\n",
    "\n",
    "print(\"-------------\")\n",
    "\n",
    "explain = 'EXPLAIN ' + query\n",
    "cursor.execute(explain)\n",
    "print(cursor.fetchall())"
   ]
  },
  {
   "cell_type": "code",
   "execution_count": 4,
   "id": "052ff1f7",
   "metadata": {},
   "outputs": [
    {
     "name": "stdout",
     "output_type": "stream",
     "text": [
      "[('89D227B655E5C82AECF13C3F540D4CF4', 'BA96DE419E711691B9445D6A6307C170', 'CMT', 1, 'N', datetime.datetime(2013, 1, 1, 15, 11, 48), datetime.datetime(2013, 1, 1, 15, 18, 10), 4, 382, 1.0, -73.97816467285156, 40.75797653198242, -73.98983764648438, 40.75117111206055), ('DFD2202EE08F7A8DC9A57B02ACB81FE2', '51EE87E3205C985EF8431D850C786310', 'CMT', 1, 'N', datetime.datetime(2013, 1, 7, 23, 54, 15), datetime.datetime(2013, 1, 7, 23, 58, 20), 2, 244, 0.699999988079071, -73.97460174560547, 40.759944915771484, -73.98473358154297, 40.7593879699707), ('0B57B9633A2FECD3D3B1944AFC7471CF', 'CCD4367B417ED6634D986F573A552A62', 'CMT', 1, 'N', datetime.datetime(2013, 1, 7, 12, 39, 18), datetime.datetime(2013, 1, 7, 13, 10, 56), 3, 1898, 10.699999809265137, -73.98993682861328, 40.75677490234375, -73.86524963378906, 40.7706298828125)]\n",
      "-------------\n",
      "[('physical_plan', '┌───────────────────────────┐\\n│         PROJECTION        │\\n│   ─ ─ ─ ─ ─ ─ ─ ─ ─ ─ ─   │\\n│         medallion         │\\n│        hack_licence       │\\n│         vendor_id         │\\n│         rate_code         │\\n│     store_and_fwd_flag    │\\n│      pickup_datetime      │\\n│      dropoff_datetime     │\\n│      passenger_count      │\\n│     trip_time_in_secs     │\\n│       trip_distance       │\\n│      pickup_longitude     │\\n│      pickup_latitude      │\\n│     dropoff_longitude     │\\n│      dropoff_latitude     │\\n└─────────────┬─────────────┘                             \\n┌─────────────┴─────────────┐\\n│         SEQ_SCAN          │\\n│   ─ ─ ─ ─ ─ ─ ─ ─ ─ ─ ─   │\\n│       TripDataSample      │\\n│   ─ ─ ─ ─ ─ ─ ─ ─ ─ ─ ─   │\\n│      passenger_count      │\\n│         medallion         │\\n│        hack_licence       │\\n│         vendor_id         │\\n│         rate_code         │\\n│     store_and_fwd_flag    │\\n│      pickup_datetime      │\\n│      dropoff_datetime     │\\n│     trip_time_in_secs     │\\n│       trip_distance       │\\n│      pickup_longitude     │\\n│      pickup_latitude      │\\n│     dropoff_longitude     │\\n│      dropoff_latitude     │\\n│   ─ ─ ─ ─ ─ ─ ─ ─ ─ ─ ─   │\\n│Filters: passenger_count>=2│\\n│ AND passenger_count IS NOT│\\n│            NULL           │\\n│   ─ ─ ─ ─ ─ ─ ─ ─ ─ ─ ─   │\\n│           EC: 1           │\\n└───────────────────────────┘                             \\n')]\n"
     ]
    }
   ],
   "source": [
    "# Query 1\n",
    "query = 'SELECT * FROM TripData WHERE passenger_count >= 2;'\n",
    "cursor.execute(query)\n",
    "print(cursor.fetchall())\n",
    "\n",
    "print(\"-------------\")\n",
    "\n",
    "explain = 'EXPLAIN ' + query\n",
    "cursor.execute(explain)\n",
    "print(cursor.fetchall())"
   ]
  },
  {
   "cell_type": "code",
   "execution_count": 5,
   "id": "3eefd066",
   "metadata": {},
   "outputs": [
    {
     "name": "stdout",
     "output_type": "stream",
     "text": [
      "[('0BD7C8F5BA12B88E0B67BED28BEA73D8', '9FD8F69F0804BDB5549F40E9DA1BE472', 'CMT', 1, 'N', datetime.datetime(2013, 1, 6, 0, 18, 35), datetime.datetime(2013, 1, 6, 0, 22, 54), 1, 259, 1.5, -74.00668334960938, 40.731781005859375, -73.99449920654297, 40.75065994262695), ('0BD7C8F5BA12B88E0B67BED28BEA73D8', '9FD8F69F0804BDB5549F40E9DA1BE472', 'CMT', 1, 'N', datetime.datetime(2013, 1, 5, 18, 49, 41), datetime.datetime(2013, 1, 5, 18, 54, 23), 1, 282, 1.100000023841858, -74.00470733642578, 40.737770080566406, -74.00983428955078, 40.72600173950195), ('DFD2202EE08F7A8DC9A57B02ACB81FE2', '51EE87E3205C985EF8431D850C786310', 'CMT', 1, 'N', datetime.datetime(2013, 1, 7, 23, 25, 3), datetime.datetime(2013, 1, 7, 23, 34, 24), 1, 560, 2.0999999046325684, -73.97624969482422, 40.74852752685547, -74.0025863647461, 40.747867584228516), ('20D9ECB2CA0767CF7A01564DF2844A3E', '598CCE5B9C1918568DEE71F43CF26CD2', 'CMT', 1, 'N', datetime.datetime(2013, 1, 7, 15, 27, 48), datetime.datetime(2013, 1, 7, 15, 38, 37), 1, 648, 1.7000000476837158, -73.96674346923828, 40.764251708984375, -73.98332214355469, 40.7437629699707), ('496644932DF3932605C22C7926FF0FE0', '513189AD756FF14FE670D10B92FAF04C', 'CMT', 1, 'N', datetime.datetime(2013, 1, 8, 11, 1, 15), datetime.datetime(2013, 1, 8, 11, 8, 14), 1, 418, 0.800000011920929, -73.99580383300781, 40.74397659301758, -74.00741577148438, 40.74434280395508), ('2C0E91FF20A856C891483ED63589F982', '1DA2F6543A62B8ED934771661A9D2FA0', 'CMT', 1, 'N', datetime.datetime(2013, 1, 7, 18, 15, 47), datetime.datetime(2013, 1, 7, 18, 20, 47), 1, 299, 0.800000011920929, -73.98007202148438, 40.74313735961914, -73.98271179199219, 40.73533630371094)]\n",
      "-------------\n",
      "[('physical_plan', '┌───────────────────────────┐\\n│         PROJECTION        │\\n│   ─ ─ ─ ─ ─ ─ ─ ─ ─ ─ ─   │\\n│         medallion         │\\n│        hack_licence       │\\n│         vendor_id         │\\n│         rate_code         │\\n│     store_and_fwd_flag    │\\n│      pickup_datetime      │\\n│      dropoff_datetime     │\\n│      passenger_count      │\\n│     trip_time_in_secs     │\\n│       trip_distance       │\\n│      pickup_longitude     │\\n│      pickup_latitude      │\\n│     dropoff_longitude     │\\n│      dropoff_latitude     │\\n└─────────────┬─────────────┘                             \\n┌─────────────┴─────────────┐\\n│         SEQ_SCAN          │\\n│   ─ ─ ─ ─ ─ ─ ─ ─ ─ ─ ─   │\\n│       TripDataSample      │\\n│   ─ ─ ─ ─ ─ ─ ─ ─ ─ ─ ─   │\\n│      passenger_count      │\\n│         medallion         │\\n│        hack_licence       │\\n│         vendor_id         │\\n│         rate_code         │\\n│     store_and_fwd_flag    │\\n│      pickup_datetime      │\\n│      dropoff_datetime     │\\n│     trip_time_in_secs     │\\n│       trip_distance       │\\n│      pickup_longitude     │\\n│      pickup_latitude      │\\n│     dropoff_longitude     │\\n│      dropoff_latitude     │\\n│   ─ ─ ─ ─ ─ ─ ─ ─ ─ ─ ─   │\\n│ Filters: passenger_count=1│\\n│ AND passenger_count IS NOT│\\n│            NULL           │\\n│   ─ ─ ─ ─ ─ ─ ─ ─ ─ ─ ─   │\\n│           EC: 3           │\\n└───────────────────────────┘                             \\n')]\n"
     ]
    }
   ],
   "source": [
    "# Query 2\n",
    "query = 'SELECT * FROM TripData WHERE passenger_count = 1;'\n",
    "cursor.execute(query)\n",
    "print(cursor.fetchall())\n",
    "\n",
    "print(\"-------------\")\n",
    "\n",
    "explain = 'EXPLAIN ' + query\n",
    "cursor.execute(explain)\n",
    "print(cursor.fetchall())"
   ]
  },
  {
   "cell_type": "code",
   "execution_count": 6,
   "id": "160fe4e6",
   "metadata": {},
   "outputs": [
    {
     "name": "stdout",
     "output_type": "stream",
     "text": [
      "[('2C0E91FF20A856C891483ED63589F982', 0.800000011920929), ('0BD7C8F5BA12B88E0B67BED28BEA73D8', 1.300000011920929), ('DFD2202EE08F7A8DC9A57B02ACB81FE2', 2.0999999046325684), ('496644932DF3932605C22C7926FF0FE0', 0.800000011920929), ('20D9ECB2CA0767CF7A01564DF2844A3E', 1.7000000476837158)]\n",
      "-------------\n",
      "[('physical_plan', '┌───────────────────────────┐\\n│       HASH_GROUP_BY       │\\n│   ─ ─ ─ ─ ─ ─ ─ ─ ─ ─ ─   │\\n│             #0            │\\n│          avg(#1)          │\\n└─────────────┬─────────────┘                             \\n┌─────────────┴─────────────┐\\n│         PROJECTION        │\\n│   ─ ─ ─ ─ ─ ─ ─ ─ ─ ─ ─   │\\n│         medallion         │\\n│   CAST(trip_distance AS   │\\n│           DOUBLE)         │\\n└─────────────┬─────────────┘                             \\n┌─────────────┴─────────────┐\\n│         SEQ_SCAN          │\\n│   ─ ─ ─ ─ ─ ─ ─ ─ ─ ─ ─   │\\n│       TripDataSample      │\\n│   ─ ─ ─ ─ ─ ─ ─ ─ ─ ─ ─   │\\n│         medallion         │\\n│       trip_distance       │\\n│   ─ ─ ─ ─ ─ ─ ─ ─ ─ ─ ─   │\\n│ Filters: passenger_count=1│\\n│ AND passenger_count IS NOT│\\n│            NULL           │\\n│   ─ ─ ─ ─ ─ ─ ─ ─ ─ ─ ─   │\\n│           EC: 3           │\\n└───────────────────────────┘                             \\n')]\n"
     ]
    }
   ],
   "source": [
    "# Aggregate 1\n",
    "aggregate = 'SELECT medallion, AVG(trip_distance) FROM TripData WHERE passenger_count = 1 GROUP BY medallion;'\n",
    "cursor.execute(aggregate)\n",
    "print(cursor.fetchall())\n",
    "\n",
    "print(\"-------------\")\n",
    "\n",
    "explain = 'EXPLAIN ' + aggregate\n",
    "cursor.execute(explain)\n",
    "print(cursor.fetchall())"
   ]
  },
  {
   "cell_type": "code",
   "execution_count": 7,
   "id": "84da9ccd",
   "metadata": {},
   "outputs": [
    {
     "name": "stdout",
     "output_type": "stream",
     "text": [
      "[(1.0,), (2.0,), (3.0,), (4.0,), (1.0,), (1.0,), (1.0,), (1.0,), (1.0,)]\n",
      "-------------\n",
      "[('physical_plan', '┌───────────────────────────┐\\n│         PROJECTION        │\\n│   ─ ─ ─ ─ ─ ─ ─ ─ ─ ─ ─   │\\n│    avg(passenger_count)   │\\n└─────────────┬─────────────┘                             \\n┌─────────────┴─────────────┐\\n│       HASH_GROUP_BY       │\\n│   ─ ─ ─ ─ ─ ─ ─ ─ ─ ─ ─   │\\n│             #0            │\\n│          avg(#1)          │\\n└─────────────┬─────────────┘                             \\n┌─────────────┴─────────────┐\\n│         PROJECTION        │\\n│   ─ ─ ─ ─ ─ ─ ─ ─ ─ ─ ─   │\\n│      pickup_datetime      │\\n│      passenger_count      │\\n└─────────────┬─────────────┘                             \\n┌─────────────┴─────────────┐\\n│         SEQ_SCAN          │\\n│   ─ ─ ─ ─ ─ ─ ─ ─ ─ ─ ─   │\\n│       TripDataSample      │\\n│   ─ ─ ─ ─ ─ ─ ─ ─ ─ ─ ─   │\\n│      pickup_datetime      │\\n│      passenger_count      │\\n│   ─ ─ ─ ─ ─ ─ ─ ─ ─ ─ ─   │\\n│           EC: 9           │\\n└───────────────────────────┘                             \\n')]\n"
     ]
    }
   ],
   "source": [
    "# Aggregate 2\n",
    "aggregate = 'SELECT AVG(passenger_count) FROM TripData GROUP BY pickup_datetime;'\n",
    "cursor.execute(aggregate)\n",
    "print(cursor.fetchall())\n",
    "\n",
    "print(\"-------------\")\n",
    "\n",
    "explain = 'EXPLAIN ' + aggregate\n",
    "cursor.execute(explain)\n",
    "print(cursor.fetchall())"
   ]
  },
  {
   "cell_type": "code",
   "execution_count": 8,
   "id": "210a5864",
   "metadata": {},
   "outputs": [
    {
     "name": "stdout",
     "output_type": "stream",
     "text": [
      "Average Time Elapsed / sql execution (in sec):\n",
      "0.0017032031920007284\n"
     ]
    }
   ],
   "source": [
    "import time\n",
    "\n",
    "# Aggregate 3\n",
    "start_time = time.perf_counter()\n",
    "number_of_iteration = 1000;\n",
    "\n",
    "for x in range(number_of_iteration):\n",
    "\n",
    "    query = 'SELECT medallion, AVG(passenger_count) as avg_pass_count, AVG(trip_distance) as avg_trip_dist FROM TripData GROUP BY medallion'\n",
    "    cursor.execute(query)\n",
    "    # print('(medallion, avg_passenger_count, avg_trip_dist):')\n",
    "    # print(cursor.fetchall())\n",
    "\n",
    "    # print(\"-------------\")\n",
    "\n",
    "    global_avg = 'SELECT AVG(trip_distance) FROM TripData'\n",
    "    cursor.execute(global_avg)\n",
    "    # print('global avg trip distance:')\n",
    "    # print(cursor.fetchall())\n",
    "\n",
    "    # print(\"-------------\")\n",
    "\n",
    "    aggregate = 'SELECT avg_pass_count FROM (' + query + ') WHERE avg_trip_dist > (' + global_avg + ');'\n",
    "    cursor.execute(aggregate)\n",
    "    # print('A3:')\n",
    "    # print(cursor.fetchall())\n",
    "\n",
    "    # print(\"-------------\")\n",
    "\n",
    "    explain = 'EXPLAIN ' + aggregate\n",
    "    cursor.execute(explain)\n",
    "    # print(cursor.fetchall())\n",
    "\n",
    "end_time = time.perf_counter()\n",
    "time_lapsed = end_time - start_time\n",
    "print('Average Time Elapsed / sql execution (in sec):')\n",
    "print(time_lapsed / number_of_iteration)"
   ]
  },
  {
   "cell_type": "markdown",
   "id": "12e4d2f0",
   "metadata": {},
   "source": [
    "## Compare DuckDB and PostgreSQL\n",
    "\n",
    "- OLAP vs OLTP"
   ]
  },
  {
   "cell_type": "code",
   "execution_count": 13,
   "id": "7b92dbc8",
   "metadata": {},
   "outputs": [],
   "source": [
    "# Closing the connection \n",
    "conn.close()"
   ]
  }
 ],
 "metadata": {
  "kernelspec": {
   "display_name": "Python 3 (ipykernel)",
   "language": "python",
   "name": "python3"
  },
  "language_info": {
   "codemirror_mode": {
    "name": "ipython",
    "version": 3
   },
   "file_extension": ".py",
   "mimetype": "text/x-python",
   "name": "python",
   "nbconvert_exporter": "python",
   "pygments_lexer": "ipython3",
   "version": "3.11.6"
  }
 },
 "nbformat": 4,
 "nbformat_minor": 5
}
