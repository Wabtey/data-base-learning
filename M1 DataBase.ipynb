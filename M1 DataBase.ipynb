{
 "cells": [
  {
   "cell_type": "markdown",
   "id": "f22a0735",
   "metadata": {},
   "source": [
    "# Data Base\n",
    "\n",
    "Florian EPAIN\n",
    "20105403, MASTER IL group 3"
   ]
  },
  {
   "cell_type": "markdown",
   "id": "0781e302",
   "metadata": {},
   "source": [
    "# Belatedly Installation\n",
    "\n",
    "We can visualize blank `.csv` file using `vscode` and the extension `Rainbow CSV`.\n",
    "\n",
    "## Docs\n",
    "\n",
    "- I used the [Psycopg2 tutorials](https://www.psycopg.org/docs/install.html#quick-install) to connect my notebook to my database.\n",
    "- [SQL Datatypes](https://www.w3schools.com/sql/sql_datatypes.asp)\n",
    "- [Install Custom postgres](https://ravinderfzk.medium.com/install-postgresql-and-pgadmin4-in-arch-linux-eb013b45540f)"
   ]
  },
  {
   "cell_type": "code",
   "execution_count": null,
   "id": "84bf7fd3",
   "metadata": {},
   "outputs": [],
   "source": [
    "%pip install psycopg2-binary # %sudo pacman -S python-psycopg2"
   ]
  },
  {
   "cell_type": "code",
   "execution_count": null,
   "id": "5fc77b17",
   "metadata": {},
   "outputs": [
    {
     "name": "stdout",
     "output_type": "stream",
     "text": [
      "Defaulting to user installation because normal site-packages is not writeable\n",
      "Requirement already satisfied: pip in /usr/lib/python3/dist-packages (22.0.2)\n",
      "Collecting pip\n",
      "  Downloading pip-23.2.1-py3-none-any.whl (2.1 MB)\n",
      "\u001b[2K     \u001b[38;2;114;156;31m━━━━━━━━━━━━━━━━━━━━━━━━━━━━━━━━━━━━━━━━\u001b[0m \u001b[32m2.1/2.1 MB\u001b[0m \u001b[31m16.2 MB/s\u001b[0m eta \u001b[36m0:00:00\u001b[0mm eta \u001b[36m0:00:01\u001b[0m[36m0:00:01\u001b[0m\n",
      "\u001b[?25hInstalling collected packages: pip\n",
      "\u001b[33m  WARNING: The scripts pip, pip3, pip3.10 and pip3.11 are installed in '/private/student/n/in/fepain/.local/bin' which is not on PATH.\n",
      "  Consider adding this directory to PATH or, if you prefer to suppress this warning, use --no-warn-script-location.\u001b[0m\u001b[33m\n",
      "\u001b[0mSuccessfully installed pip-23.2.1\n"
     ]
    }
   ],
   "source": [
    "%pip install -U pip"
   ]
  },
  {
   "cell_type": "code",
   "execution_count": null,
   "id": "7c52b4cb",
   "metadata": {},
   "outputs": [],
   "source": [
    "%sudo pacman -S python-pipx"
   ]
  },
  {
   "cell_type": "code",
   "execution_count": 3,
   "id": "ad543d82",
   "metadata": {},
   "outputs": [
    {
     "name": "stdout",
     "output_type": "stream",
     "text": [
      "\u001b[K⡿ installing duckdb from spec 'duckdb==0.9.1'\n",
      "No apps associated with package duckdb or its dependencies. If you are\n",
      "attempting to install a library, pipx should not be used. Consider using pip\n",
      "or a similar tool instead.\n",
      "\u001b[?25h"
     ]
    }
   ],
   "source": [
    "%pip install duckdb==0.9.1 # %sudo pacman -S python-duckdb "
   ]
  },
  {
   "cell_type": "code",
   "execution_count": null,
   "id": "a67307b4",
   "metadata": {},
   "outputs": [],
   "source": [
    "# If the Server postgres is down\n",
    "import duckdb\n",
    "cursor = duckdb.connect()\n",
    "# print(cursor.execute('SELECT 42').fetchall())"
   ]
  },
  {
   "cell_type": "code",
   "execution_count": 5,
   "id": "1edfc169",
   "metadata": {},
   "outputs": [],
   "source": [
    "import psycopg2\n",
    "from getpass import getpass\n",
    "  \n",
    "# Connection establishment \n",
    "conn = psycopg2.connect( \n",
    "    database=\"fepain\", \n",
    "    user='fepain', \n",
    "    password=getpass(), \n",
    "    host='chausey.istic.univ-rennes1.fr', \n",
    "    port='5432'\n",
    ")\n",
    "  \n",
    "conn.autocommit = True\n",
    "  \n",
    "# Creating a cursor object \n",
    "cursor = conn.cursor()"
   ]
  },
  {
   "cell_type": "code",
   "execution_count": 7,
   "id": "30003e27",
   "metadata": {},
   "outputs": [
    {
     "name": "stdout",
     "output_type": "stream",
     "text": [
      "Table has been created successfully D:\n"
     ]
    }
   ],
   "source": [
    "# Query to create a table \n",
    "sql = ''' CREATE TABLE TripData \n",
    "( \n",
    "    medallion VARCHAR(32), \n",
    "    hack_licence VARCHAR(32), \n",
    "    vendor_id VARCHAR(10), \n",
    "    rate_code INT,\n",
    "    store_and_fwd_flag VARCHAR(10),\n",
    "    pickup_datetime TIMESTAMP,\n",
    "    dropoff_datetime TIMESTAMP,\n",
    "    passenger_count INT,\n",
    "    trip_time_in_secs INT,\n",
    "    trip_distance FLOAT,\n",
    "    pickup_longitude FLOAT,\n",
    "    pickup_latitude FLOAT,\n",
    "    dropoff_longitude FLOAT,\n",
    "    dropoff_latitude FLOAT\n",
    "); '''\n",
    "  \n",
    "# --- Executing above query ---\n",
    "cursor.execute(sql) # duckdb & postgres\n",
    "print(\"Table has been created successfully D:\")"
   ]
  },
  {
   "cell_type": "code",
   "execution_count": 8,
   "id": "11272dfc",
   "metadata": {},
   "outputs": [
    {
     "name": "stdout",
     "output_type": "stream",
     "text": [
      "[]\n"
     ]
    }
   ],
   "source": [
    "# Display the table \n",
    "cursor.execute('SELECT * FROM TripData')\n",
    "print(cursor.fetchall())"
   ]
  },
  {
   "cell_type": "code",
   "execution_count": null,
   "id": "82e80b10",
   "metadata": {},
   "outputs": [],
   "source": [
    "# First Try\n",
    "sql = ''' COPY TripData FROM 'assets/data/trip_date-sample.csv' With CSV HEADER DELIMITER as ','; '''\n",
    "cursor.execute(sql)\n",
    "print(cursor.fetchall())"
   ]
  },
  {
   "cell_type": "markdown",
   "id": "db23c384",
   "metadata": {},
   "source": [
    "---\n",
    "\n",
    "We now import the `csv` file, using the [Cursor Copy - tutorials](https://www.psycopg.org/docs/cursor.html#cursor.copy_from) and the [COPY docs](https://www.postgresql.org/docs/current/sql-copy.html). I can't use `copy_from()`, I will use `copy_expert()` as mentionned in this [github issue](https://github.com/psycopg/psycopg2/issues/1294) in POSTGRESQL\n",
    "\n",
    "---"
   ]
  },
  {
   "cell_type": "code",
   "execution_count": 42,
   "id": "cac1da77",
   "metadata": {},
   "outputs": [
    {
     "name": "stdout",
     "output_type": "stream",
     "text": [
      "[('89D227B655E5C82AECF13C3F540D4CF4', 'BA96DE419E711691B9445D6A6307C170', 'CMT', 1, 'N', datetime.datetime(2013, 1, 1, 15, 11, 48), datetime.datetime(2013, 1, 1, 15, 18, 10), 4, 382, 1.0, -73.978165, 40.757977, -73.989838, 40.751171), ('0BD7C8F5BA12B88E0B67BED28BEA73D8', '9FD8F69F0804BDB5549F40E9DA1BE472', 'CMT', 1, 'N', datetime.datetime(2013, 1, 6, 0, 18, 35), datetime.datetime(2013, 1, 6, 0, 22, 54), 1, 259, 1.5, -74.006683, 40.731781, -73.994499, 40.75066), ('0BD7C8F5BA12B88E0B67BED28BEA73D8', '9FD8F69F0804BDB5549F40E9DA1BE472', 'CMT', 1, 'N', datetime.datetime(2013, 1, 5, 18, 49, 41), datetime.datetime(2013, 1, 5, 18, 54, 23), 1, 282, 1.1, -74.004707, 40.73777, -74.009834, 40.726002), ('DFD2202EE08F7A8DC9A57B02ACB81FE2', '51EE87E3205C985EF8431D850C786310', 'CMT', 1, 'N', datetime.datetime(2013, 1, 7, 23, 54, 15), datetime.datetime(2013, 1, 7, 23, 58, 20), 2, 244, 0.7, -73.974602, 40.759945, -73.984734, 40.759388), ('DFD2202EE08F7A8DC9A57B02ACB81FE2', '51EE87E3205C985EF8431D850C786310', 'CMT', 1, 'N', datetime.datetime(2013, 1, 7, 23, 25, 3), datetime.datetime(2013, 1, 7, 23, 34, 24), 1, 560, 2.1, -73.97625, 40.748528, -74.002586, 40.747868), ('20D9ECB2CA0767CF7A01564DF2844A3E', '598CCE5B9C1918568DEE71F43CF26CD2', 'CMT', 1, 'N', datetime.datetime(2013, 1, 7, 15, 27, 48), datetime.datetime(2013, 1, 7, 15, 38, 37), 1, 648, 1.7, -73.966743, 40.764252, -73.983322, 40.743763), ('496644932DF3932605C22C7926FF0FE0', '513189AD756FF14FE670D10B92FAF04C', 'CMT', 1, 'N', datetime.datetime(2013, 1, 8, 11, 1, 15), datetime.datetime(2013, 1, 8, 11, 8, 14), 1, 418, 0.8, -73.995804, 40.743977, -74.007416, 40.744343), ('0B57B9633A2FECD3D3B1944AFC7471CF', 'CCD4367B417ED6634D986F573A552A62', 'CMT', 1, 'N', datetime.datetime(2013, 1, 7, 12, 39, 18), datetime.datetime(2013, 1, 7, 13, 10, 56), 3, 1898, 10.7, -73.989937, 40.756775, -73.86525, 40.77063), ('2C0E91FF20A856C891483ED63589F982', '1DA2F6543A62B8ED934771661A9D2FA0', 'CMT', 1, 'N', datetime.datetime(2013, 1, 7, 18, 15, 47), datetime.datetime(2013, 1, 7, 18, 20, 47), 1, 299, 0.8, -73.980072, 40.743137, -73.982712, 40.735336)]\n"
     ]
    }
   ],
   "source": [
    "# Import Sample CSV in PostgreSQL\n",
    "csv_file_path = \"assets/data/trip_data-sample.csv\"\n",
    "# cursor.copy_from(f, 'TripData')\n",
    "\n",
    "with open(csv_file_path, 'r') as f:\n",
    "    cursor.copy_expert(\n",
    "    \"COPY TripData FROM STDIN With CSV HEADER DELIMITER as ','\",\n",
    "    f)\n",
    "\n",
    "# Display the table \n",
    "cursor.execute('SELECT * FROM TripData')\n",
    "print(cursor.fetchall())"
   ]
  },
  {
   "cell_type": "code",
   "execution_count": null,
   "id": "ac17dfa2",
   "metadata": {},
   "outputs": [],
   "source": [
    "# Import Sample CSV in DuckDB\n",
    "\n",
    "# cursor.execute('SELECT * FROM \\'trip_data-sample.csv\\';')\n",
    "# print(cursor.fetchall())\n",
    "\n",
    "sql = ''' COPY TripData FROM 'assets/data/strip_data-sample.csv' With CSV HEADER DELIMITER as ','; '''\n",
    "cursor.execute(sql)\n",
    "print(cursor.fetchall())"
   ]
  },
  {
   "cell_type": "code",
   "execution_count": null,
   "id": "894b3383",
   "metadata": {},
   "outputs": [],
   "source": [
    "# Drop the table \n",
    "cursor.execute('DROP TABLE TripData')"
   ]
  },
  {
   "cell_type": "markdown",
   "id": "fe3dff71",
   "metadata": {},
   "source": [
    "---\n",
    "\n",
    "Big CSV Import\n",
    "\n",
    "---"
   ]
  },
  {
   "cell_type": "code",
   "execution_count": null,
   "id": "dfc1c32e",
   "metadata": {},
   "outputs": [],
   "source": [
    "# Import CSV in PostgreSQL\n",
    "csv_file_path = \"assets/data/trip_data/trip_data_1.csv\"\n",
    "# cursor.copy_from(f, 'TripData')\n",
    "\n",
    "with open(csv_file_path, 'r') as f:\n",
    "    cursor.copy_expert(\n",
    "    \"COPY TripData FROM STDIN With CSV HEADER DELIMITER as ','\",\n",
    "    f)"
   ]
  },
  {
   "cell_type": "code",
   "execution_count": null,
   "id": "ab21c294",
   "metadata": {},
   "outputs": [
    {
     "name": "stdout",
     "output_type": "stream",
     "text": [
      "[(14776615,)]"
     ]
    }
   ],
   "source": [
    "# Import Big CSV in DuckDB\n",
    "\n",
    "# cursor.execute('SELECT * FROM \\'trip_data_1.csv\\';')\n",
    "# print(cursor.fetchall())\n",
    "\n",
    "sql = ''' COPY Trip FROM 'assets/data/trip_data/trip_data_1.csv' With CSV HEADER DELIMITER as ','; '''\n",
    "cursor.execute(sql)\n",
    "print(cursor.fetchall())"
   ]
  },
  {
   "cell_type": "code",
   "execution_count": 22,
   "id": "4f44dfb0",
   "metadata": {},
   "outputs": [
    {
     "name": "stdout",
     "output_type": "stream",
     "text": [
      "medallion,hack_licence,vendor_id,rate_code,store_and_fwd_flag,pickup_datetime,dropoff_datetime,passenger_count,trip_time_in_secs,trip_distance,pickup_longitude,pickup_latitude,dropoff_longitude,dropoff_latitude\n"
     ]
    }
   ],
   "source": [
    "from sys import stdout\n",
    "\n",
    "cursor.copy_expert(\"COPY TripDataSample TO STDOUT WITH CSV HEADER\", stdout)"
   ]
  },
  {
   "cell_type": "markdown",
   "id": "931a84b9",
   "metadata": {},
   "source": [
    "# Analyze Queries\n",
    "\n",
    "\n",
    "- [`EXPLAIN` docs](https://www.postgresql.org/docs/current/sql-explain.html)\n",
    "- <https://explain.dalibo.com/>\n",
    "- Use [`CLUSTER`](https://www.postgresql.org/docs/current/sql-cluster.html)\n",
    "- Use [`CREATE INDEX name on Table (column_to_index)`](https://www.postgresql.org/docs/current/sql-createindex.html)\n",
    "- use `EXPLAIN VERBOSE` / `BUFFER` to exploit `EXPLAIN`\n",
    "  - add `ANALYZE` to display only graph\n",
    "- optimize request with duckDB"
   ]
  },
  {
   "cell_type": "code",
   "execution_count": null,
   "id": "ef73164d",
   "metadata": {},
   "outputs": [],
   "source": [
    "# Optimize\n",
    "optimize = 'CREATE INDEX index on TripData (medallion);'\n",
    "cursor.execute(optimize)\n",
    "print(cursor.fetchall())\n",
    "\n",
    "print(\"-----------\")\n",
    "\n",
    "cluster = 'CLUSTER TripData using index;'\n",
    "cursor.execute(cluster)\n",
    "print(cursor.fetchall())"
   ]
  },
  {
   "cell_type": "code",
   "execution_count": 3,
   "id": "8b43aa1f",
   "metadata": {},
   "outputs": [
    {
     "name": "stdout",
     "output_type": "stream",
     "text": [
      "                                                     QUERY PLAN\n",
      "--------------------------------------------------------------------------------------------------------------------\n",
      "Bitmap Heap Scan on tripdata  (cost=17.50..4433.00 rows=1154 width=140)\n",
      "  Recheck Cond: ((medallion)::text = '0BD7C8F5BA12B88E0B67BED28BEA73D8'::text)\n",
      "  ->  Bitmap Index Scan on index  (cost=0.00..17.21 rows=1154 width=0)\n",
      "        Index Cond: ((medallion)::text = '0BD7C8F5BA12B88E0B67BED28BEA73D8'::text)\n",
      "--------------------------------------------------------------------------------------------------------------------\n",
      "                                                      QUERY 0\n",
      "Average Time Elapsed / sql execution (in sec):\n",
      "0.05355804099235684\n"
     ]
    }
   ],
   "source": [
    "# Query 0\n",
    "query = 'SELECT * FROM TripData WHERE medallion = \\'0BD7C8F5BA12B88E0B67BED28BEA73D8\\';'\n",
    "\n",
    "explain = 'EXPLAIN ' + query\n",
    "cursor.execute(explain)\n",
    "print(\"                                                     QUERY PLAN\\n--------------------------------------------------------------------------------------------------------------------\")\n",
    "execution_plan = cursor.fetchall()\n",
    "for line in execution_plan:\n",
    "    print(line[0])\n",
    "print(\"--------------------------------------------------------------------------------------------------------------------\")\n",
    "\n",
    "start_time = time.perf_counter()\n",
    "number_of_iteration = 1;\n",
    "\n",
    "print(\"                                                      QUERY 0\")\n",
    "for x in range(number_of_iteration):\n",
    "    cursor.execute(query)\n",
    "    # print(cursor.fetchall())\n",
    "\n",
    "end_time = time.perf_counter()\n",
    "time_lapsed = end_time - start_time\n",
    "print('Average Time Elapsed / sql execution (in sec):')\n",
    "print(time_lapsed / number_of_iteration)"
   ]
  },
  {
   "cell_type": "code",
   "execution_count": 4,
   "id": "052ff1f7",
   "metadata": {},
   "outputs": [
    {
     "name": "stdout",
     "output_type": "stream",
     "text": [
      "                                                     QUERY PLAN\n",
      "--------------------------------------------------------------------------------------------------------------------\n",
      "Seq Scan on tripdata  (cost=0.00..506058.69 rows=4308861 width=140)\n",
      "  Filter: (passenger_count >= 2)\n",
      "JIT:\n",
      "  Functions: 2\n",
      "  Options: Inlining true, Optimization true, Expressions true, Deforming true\n",
      "--------------------------------------------------------------------------------------------------------------------\n",
      "                                                      QUERY 1\n",
      "Average Time Elapsed / sql execution (in sec):\n",
      "9.418628131010337\n"
     ]
    }
   ],
   "source": [
    "# Query 1\n",
    "query = 'SELECT * FROM TripData WHERE passenger_count >= 2;'\n",
    "\n",
    "explain = 'EXPLAIN ' + query\n",
    "cursor.execute(explain)\n",
    "print(\"                                                     QUERY PLAN\\n--------------------------------------------------------------------------------------------------------------------\")\n",
    "execution_plan = cursor.fetchall()\n",
    "for line in execution_plan:\n",
    "    print(line[0])\n",
    "print(\"--------------------------------------------------------------------------------------------------------------------\")\n",
    "\n",
    "start_time = time.perf_counter()\n",
    "number_of_iteration = 1;\n",
    "\n",
    "print(\"                                                      QUERY 1\")\n",
    "for x in range(number_of_iteration):\n",
    "    cursor.execute(query)\n",
    "    # print(cursor.fetchall())\n",
    "\n",
    "end_time = time.perf_counter()\n",
    "time_lapsed = end_time - start_time\n",
    "print('Average Time Elapsed / sql execution (in sec):')\n",
    "print(time_lapsed / number_of_iteration)"
   ]
  },
  {
   "cell_type": "code",
   "execution_count": 5,
   "id": "3eefd066",
   "metadata": {},
   "outputs": [
    {
     "name": "stdout",
     "output_type": "stream",
     "text": [
      "                                                     QUERY PLAN\n",
      "--------------------------------------------------------------------------------------------------------------------\n",
      "Seq Scan on tripdata  (cost=0.00..506058.69 rows=10467754 width=140)\n",
      "  Filter: (passenger_count = 1)\n",
      "JIT:\n",
      "  Functions: 2\n",
      "  Options: Inlining true, Optimization true, Expressions true, Deforming true\n",
      "--------------------------------------------------------------------------------------------------------------------\n",
      "                                                      QUERY 2\n",
      "Average Time Elapsed / sql execution (in sec):\n",
      "21.648114531009924\n"
     ]
    }
   ],
   "source": [
    "# Query 2\n",
    "query = 'SELECT * FROM TripData WHERE passenger_count = 1;'\n",
    "\n",
    "explain = 'EXPLAIN ' + query\n",
    "cursor.execute(explain)\n",
    "print(\"                                                     QUERY PLAN\\n--------------------------------------------------------------------------------------------------------------------\")\n",
    "execution_plan = cursor.fetchall()\n",
    "for line in execution_plan:\n",
    "    print(line[0])\n",
    "print(\"--------------------------------------------------------------------------------------------------------------------\")\n",
    "\n",
    "start_time = time.perf_counter()\n",
    "number_of_iteration = 1;\n",
    "\n",
    "print(\"                                                      QUERY 2\")\n",
    "for x in range(number_of_iteration):\n",
    "    cursor.execute(query)\n",
    "    # print(cursor.fetchall())\n",
    "\n",
    "end_time = time.perf_counter()\n",
    "time_lapsed = end_time - start_time\n",
    "print('Average Time Elapsed / sql execution (in sec):')\n",
    "print(time_lapsed / number_of_iteration)"
   ]
  },
  {
   "cell_type": "code",
   "execution_count": 6,
   "id": "160fe4e6",
   "metadata": {},
   "outputs": [
    {
     "name": "stdout",
     "output_type": "stream",
     "text": [
      "                                                     QUERY PLAN\n",
      "--------------------------------------------------------------------------------------------------------------------\n",
      "Finalize GroupAggregate  (cost=422117.32..425379.40 rows=12750 width=41)\n",
      "  Group Key: medallion\n",
      "  ->  Gather Merge  (cost=422117.32..425092.52 rows=25500 width=65)\n",
      "        Workers Planned: 2\n",
      "        ->  Sort  (cost=421117.29..421149.17 rows=12750 width=65)\n",
      "              Sort Key: medallion\n",
      "              ->  Partial HashAggregate  (cost=420120.36..420247.86 rows=12750 width=65)\n",
      "                    Group Key: medallion\n",
      "                    ->  Parallel Seq Scan on tripdata  (cost=0.00..398312.54 rows=4361564 width=41)\n",
      "                          Filter: (passenger_count = 1)\n",
      "JIT:\n",
      "  Functions: 9\n",
      "  Options: Inlining false, Optimization false, Expressions true, Deforming true\n",
      "--------------------------------------------------------------------------------------------------------------------\n",
      "                                                     AGGREGATE 1\n",
      "Average Time Elapsed / sql execution (in sec):\n",
      "6.297732835999341\n"
     ]
    }
   ],
   "source": [
    "# Aggregate 1\n",
    "aggregate = 'SELECT medallion, AVG(trip_distance) FROM TripData WHERE passenger_count = 1 GROUP BY medallion;'\n",
    "\n",
    "explain = 'EXPLAIN ' + aggregate\n",
    "cursor.execute(explain)\n",
    "print(\"                                                     QUERY PLAN\\n--------------------------------------------------------------------------------------------------------------------\")\n",
    "execution_plan = cursor.fetchall()\n",
    "for line in execution_plan:\n",
    "    print(line[0])\n",
    "print(\"--------------------------------------------------------------------------------------------------------------------\")\n",
    "\n",
    "start_time = time.perf_counter()\n",
    "number_of_iteration = 1;\n",
    "\n",
    "print(\"                                                     AGGREGATE 1\")\n",
    "for x in range(number_of_iteration):\n",
    "    cursor.execute(aggregate)\n",
    "    # print(cursor.fetchall())\n",
    "\n",
    "end_time = time.perf_counter()\n",
    "time_lapsed = end_time - start_time\n",
    "print('Average Time Elapsed / sql execution (in sec):')\n",
    "print(time_lapsed / number_of_iteration)"
   ]
  },
  {
   "cell_type": "code",
   "execution_count": 8,
   "id": "84da9ccd",
   "metadata": {},
   "outputs": [
    {
     "name": "stdout",
     "output_type": "stream",
     "text": [
      "                                                     QUERY PLAN\n",
      "--------------------------------------------------------------------------------------------------------------------\n",
      "Finalize GroupAggregate  (cost=856301.62..893361.70 rows=144851 width=40)\n",
      "  Group Key: pickup_datetime\n",
      "  ->  Gather Merge  (cost=856301.62..890102.55 rows=289702 width=40)\n",
      "        Workers Planned: 2\n",
      "        ->  Sort  (cost=855301.60..855663.73 rows=144851 width=40)\n",
      "              Sort Key: pickup_datetime\n",
      "              ->  Partial HashAggregate  (cost=777348.11..838922.82 rows=144851 width=40)\n",
      "                    Group Key: pickup_datetime\n",
      "                    Planned Partitions: 4\n",
      "                    ->  Parallel Seq Scan on tripdata  (cost=0.00..382920.23 rows=6156923 width=12)\n",
      "JIT:\n",
      "  Functions: 7\n",
      "  Options: Inlining true, Optimization true, Expressions true, Deforming true\n",
      "--------------------------------------------------------------------------------------------------------------------\n",
      "                                                     AGGREGATE 2\n"
     ]
    },
    {
     "ename": "DiskFull",
     "evalue": "ERREUR:  n'a pas pu écrire dans le fichier « base/pgsql_tmp/pgsql_tmp105552.1 » : Aucun espace disponible sur le périphérique\nCONTEXT:  processus parallèle\n",
     "output_type": "error",
     "traceback": [
      "\u001b[0;31m---------------------------------------------------------------------------\u001b[0m",
      "\u001b[0;31mDiskFull\u001b[0m                                  Traceback (most recent call last)",
      "Cell \u001b[0;32mIn[23], line 21\u001b[0m\n\u001b[1;32m     19\u001b[0m \u001b[38;5;28mprint\u001b[39m(\u001b[38;5;124m\"\u001b[39m\u001b[38;5;124m                                                     AGGREGATE 2\u001b[39m\u001b[38;5;124m\"\u001b[39m)\n\u001b[1;32m     20\u001b[0m \u001b[38;5;28;01mfor\u001b[39;00m x \u001b[38;5;129;01min\u001b[39;00m \u001b[38;5;28mrange\u001b[39m(number_of_iteration):\n\u001b[0;32m---> 21\u001b[0m     \u001b[43mcursor\u001b[49m\u001b[38;5;241;43m.\u001b[39;49m\u001b[43mexecute\u001b[49m\u001b[43m(\u001b[49m\u001b[43maggregate\u001b[49m\u001b[43m)\u001b[49m\n\u001b[1;32m     22\u001b[0m     \u001b[38;5;66;03m# print(cursor.fetchall())\u001b[39;00m\n\u001b[1;32m     24\u001b[0m end_time \u001b[38;5;241m=\u001b[39m time\u001b[38;5;241m.\u001b[39mperf_counter()\n",
      "\u001b[0;31mDiskFull\u001b[0m: ERREUR:  n'a pas pu écrire dans le fichier « base/pgsql_tmp/pgsql_tmp105552.1 » : Aucun espace disponible sur le périphérique\nCONTEXT:  processus parallèle\n"
     ]
    }
   ],
   "source": [
    "import time\n",
    "\n",
    "# Aggregate 2\n",
    "\n",
    "aggregate = 'SELECT AVG(passenger_count) FROM TripData GROUP BY pickup_datetime;'\n",
    "\n",
    "explain = 'EXPLAIN ' + aggregate\n",
    "cursor.execute(explain)\n",
    "print(\"                                                     QUERY PLAN\\n--------------------------------------------------------------------------------------------------------------------\")\n",
    "execution_plan = cursor.fetchall()\n",
    "for line in execution_plan:\n",
    "    print(line[0])\n",
    "print(\"--------------------------------------------------------------------------------------------------------------------\")\n",
    "\n",
    "start_time = time.perf_counter()\n",
    "number_of_iteration = 1;\n",
    "\n",
    "print(\"                                                     AGGREGATE 2\")\n",
    "for x in range(number_of_iteration):\n",
    "    cursor.execute(aggregate)\n",
    "    # print(cursor.fetchall())\n",
    "\n",
    "end_time = time.perf_counter()\n",
    "time_lapsed = end_time - start_time\n",
    "print('Average Time Elapsed / sql execution (in sec):')\n",
    "print(time_lapsed / number_of_iteration)\n",
    "\n"
   ]
  },
  {
   "cell_type": "markdown",
   "id": "60d2ebb6",
   "metadata": {},
   "source": [
    "### Comparison\n",
    "\n",
    "- postgres noOpti 28.3206s\n",
    "- duckDB noOpti 0.0017s"
   ]
  },
  {
   "cell_type": "code",
   "execution_count": null,
   "id": "210a5864",
   "metadata": {},
   "outputs": [
    {
     "name": "stdout",
     "output_type": "stream",
     "text": [
      "-------------\n",
      "[('Subquery Scan on taxisstats  (cost=830406.88..833838.96 rows=4250 width=32)',), ('  InitPlan 1 (returns $1)',), ('    ->  Finalize Aggregate  (cost=399312.75..399312.76 rows=1 width=8)',), ('          ->  Gather  (cost=399312.54..399312.75 rows=2 width=32)',), ('                Workers Planned: 2',), ('                ->  Partial Aggregate  (cost=398312.54..398312.55 rows=1 width=32)',), ('                      ->  Parallel Seq Scan on tripdata tripdata_1  (cost=0.00..382920.23 rows=6156923 width=8)',), ('  ->  Finalize GroupAggregate  (cost=431094.11..434483.69 rows=4250 width=73)',), ('        Group Key: tripdata.medallion',), ('        Filter: (avg(tripdata.trip_distance) > $1)',), ('        ->  Gather Merge  (cost=431094.11..434069.32 rows=25500 width=97)',), ('              Workers Planned: 2',), ('              ->  Sort  (cost=430094.09..430125.96 rows=12750 width=97)',), ('                    Sort Key: tripdata.medallion',), ('                    ->  Partial HashAggregate  (cost=429097.15..429224.65 rows=12750 width=97)',), ('                          Group Key: tripdata.medallion',), ('                          ->  Parallel Seq Scan on tripdata  (cost=0.00..382920.23 rows=6156923 width=45)',), ('JIT:',), ('  Functions: 14',), ('  Options: Inlining true, Optimization true, Expressions true, Deforming true',)]\n",
      "Average Time Elapsed / sql execution (in sec):\n",
      "6.085978909600089"
     ]
    }
   ],
   "source": [
    "import time\n",
    "\n",
    "# Aggregate 3\n",
    "\n",
    "# Taxis' stats\n",
    "query = 'SELECT medallion, AVG(passenger_count) as avg_pass_count, AVG(trip_distance) as avg_trip_dist FROM TripData GROUP BY medallion'\n",
    "global_avg = 'SELECT AVG(trip_distance) FROM TripData'\n",
    "\n",
    "aggregate = 'SELECT avg_pass_count FROM (' + query + ') as taxisStats WHERE avg_trip_dist > (' + global_avg + ');'\n",
    "\n",
    "explain = 'EXPLAIN ' + aggregate\n",
    "cursor.execute(explain)\n",
    "print(\"                                                     QUERY PLAN\\n--------------------------------------------------------------------------------------------------------------------\")\n",
    "execution_plan = cursor.fetchall()\n",
    "for line in execution_plan:\n",
    "    print(line[0])\n",
    "print(\"--------------------------------------------------------------------------------------------------------------------\")\n",
    "\n",
    "start_time = time.perf_counter()\n",
    "number_of_iteration = 5;\n",
    "\n",
    "print(\"                                                     AGGREGATE 3\")\n",
    "\n",
    "for x in range(number_of_iteration):\n",
    "\n",
    "    # cursor.execute(query)\n",
    "    # print('(medallion, avg_passenger_count, avg_trip_dist):')\n",
    "    # print(cursor.fetchall())\n",
    "    # print(\"-------------\")\n",
    "\n",
    "    # cursor.execute(global_avg)\n",
    "    # print('global avg trip distance:')\n",
    "    # print(cursor.fetchall())\n",
    "    # print(\"-------------\")\n",
    "\n",
    "    cursor.execute(aggregate)\n",
    "    # print('A3:')\n",
    "    # print(cursor.fetchall())\n",
    "    # print(\"-------------\")\n",
    "\n",
    "\n",
    "end_time = time.perf_counter()\n",
    "time_lapsed = end_time - start_time\n",
    "print('Average Time Elapsed / sql execution (in sec):')\n",
    "print(time_lapsed / number_of_iteration)"
   ]
  },
  {
   "cell_type": "markdown",
   "id": "e834f58a",
   "metadata": {},
   "source": [
    "### Comparison\n",
    "\n",
    "- postgres noOpti 6.0251s\n",
    "- duckDB noOpti 0.0017s"
   ]
  },
  {
   "cell_type": "markdown",
   "id": "cf35922b",
   "metadata": {},
   "source": [
    "## Compare DuckDB and PostgreSQL\n",
    "\n",
    "- OLAP vs OLTP"
   ]
  },
  {
   "cell_type": "markdown",
   "id": "476f1484",
   "metadata": {},
   "source": [
    "## Physical Plan (in the sample)\n",
    "\n",
    "### PostgreSQL\n",
    "\n",
    "- Query 0\n",
    "    ```\n",
    "    [('Seq Scan on tripdatasample  (cost=0.00..13.00 rows=1 width=308)',), (\"  Filter: ((medallion)::text = '0BD7C8F5BA12B88E0B67BED28BEA73D8'::text)\",)]\n",
    "    ```\n",
    "- Query 1\n",
    "    ```\n",
    "    [('Seq Scan on tripdatasample  (cost=0.00..13.00 rows=1 width=308)',), ('  Filter: (passenger_count = 1)',)]\n",
    "    ```\n",
    "- Query 2\n",
    "    ```\n",
    "    [('Seq Scan on tripdatasample  (cost=0.00..13.00 rows=1 width=308)',), (\"  Filter: ((medallion)::text = '0BD7C8F5BA12B88E0B67BED28BEA73D8'::text)\",)]\n",
    "    ```\n",
    "- Aggregate 1\n",
    "    ```\n",
    "    [('GroupAggregate  (cost=13.01..13.03 rows=1 width=90)',), ('  Group Key: medallion',), ('  ->  Sort  (cost=13.01..13.02 rows=1 width=90)',), ('        Sort Key: medallion',), ('        ->  Seq Scan on tripdatasample  (cost=0.00..13.00 rows=1 width=90)',), ('              Filter: (passenger_count = 1)',)]\n",
    "    ```\n",
    "- Aggregate 2\n",
    "    ```\n",
    "    [('HashAggregate  (cost=13.60..16.10 rows=200 width=40)',), ('  Group Key: pickup_datetime',), ('  ->  Seq Scan on tripdatasample  (cost=0.00..12.40 rows=240 width=12)',)]\n",
    "    ```\n",
    "- Aggregate 3\n",
    "    ```\n",
    "    ```\n",
    "\n",
    "### DuckDB\n",
    "\n",
    "- Query 0\n",
    "    ```\n",
    "    [('physical_plan', '┌───────────────────────────┐\\n│         SEQ_SCAN          │\\n│   ─ ─ ─ ─ ─ ─ ─ ─ ─ ─ ─   │\\n│       TripDataSample      │\\n│   ─ ─ ─ ─ ─ ─ ─ ─ ─ ─ ─   │\\n│         medallion         │\\n│        hack_licence       │\\n│         vendor_id         │\\n│         rate_code         │\\n│     store_and_fwd_flag    │\\n│      pickup_datetime      │\\n│      dropoff_datetime     │\\n│      passenger_count      │\\n│     trip_time_in_secs     │\\n│       trip_distance       │\\n│      pickup_longitude     │\\n│      pickup_latitude      │\\n│     dropoff_longitude     │\\n│      dropoff_latitude     │\\n│   ─ ─ ─ ─ ─ ─ ─ ─ ─ ─ ─   │\\n│     Filters: medallion    │\\n│=0BD7C8F5BA12B88E0B67B...  │\\n│  AND medallion IS NOT NULL│\\n│   ─ ─ ─ ─ ─ ─ ─ ─ ─ ─ ─   │\\n│           EC: 2           │\\n└───────────────────────────┘                             \\n')]\n",
    "    ```\n",
    "- Query 1\n",
    "    ```\n",
    "    [('physical_plan', '┌───────────────────────────┐\\n│         PROJECTION        │\\n│   ─ ─ ─ ─ ─ ─ ─ ─ ─ ─ ─   │\\n│         medallion         │\\n│        hack_licence       │\\n│         vendor_id         │\\n│         rate_code         │\\n│     store_and_fwd_flag    │\\n│      pickup_datetime      │\\n│      dropoff_datetime     │\\n│      passenger_count      │\\n│     trip_time_in_secs     │\\n│       trip_distance       │\\n│      pickup_longitude     │\\n│      pickup_latitude      │\\n│     dropoff_longitude     │\\n│      dropoff_latitude     │\\n└─────────────┬─────────────┘                             \\n┌─────────────┴─────────────┐\\n│         SEQ_SCAN          │\\n│   ─ ─ ─ ─ ─ ─ ─ ─ ─ ─ ─   │\\n│       TripDataSample      │\\n│   ─ ─ ─ ─ ─ ─ ─ ─ ─ ─ ─   │\\n│      passenger_count      │\\n│         medallion         │\\n│        hack_licence       │\\n│         vendor_id         │\\n│         rate_code         │\\n│     store_and_fwd_flag    │\\n│      pickup_datetime      │\\n│      dropoff_datetime     │\\n│     trip_time_in_secs     │\\n│       trip_distance       │\\n│      pickup_longitude     │\\n│      pickup_latitude      │\\n│     dropoff_longitude     │\\n│      dropoff_latitude     │\\n│   ─ ─ ─ ─ ─ ─ ─ ─ ─ ─ ─   │\\n│Filters: passenger_count>=2│\\n│ AND passenger_count IS NOT│\\n│            NULL           │\\n│   ─ ─ ─ ─ ─ ─ ─ ─ ─ ─ ─   │\\n│           EC: 1           │\\n└───────────────────────────┘                             \\n')]\n",
    "    ```\n",
    "- Query 2\n",
    "    ```\n",
    "    [('physical_plan', '┌───────────────────────────┐\\n│         PROJECTION        │\\n│   ─ ─ ─ ─ ─ ─ ─ ─ ─ ─ ─   │\\n│         medallion         │\\n│        hack_licence       │\\n│         vendor_id         │\\n│         rate_code         │\\n│     store_and_fwd_flag    │\\n│      pickup_datetime      │\\n│      dropoff_datetime     │\\n│      passenger_count      │\\n│     trip_time_in_secs     │\\n│       trip_distance       │\\n│      pickup_longitude     │\\n│      pickup_latitude      │\\n│     dropoff_longitude     │\\n│      dropoff_latitude     │\\n└─────────────┬─────────────┘                             \\n┌─────────────┴─────────────┐\\n│         SEQ_SCAN          │\\n│   ─ ─ ─ ─ ─ ─ ─ ─ ─ ─ ─   │\\n│       TripDataSample      │\\n│   ─ ─ ─ ─ ─ ─ ─ ─ ─ ─ ─   │\\n│      passenger_count      │\\n│         medallion         │\\n│        hack_licence       │\\n│         vendor_id         │\\n│         rate_code         │\\n│     store_and_fwd_flag    │\\n│      pickup_datetime      │\\n│      dropoff_datetime     │\\n│     trip_time_in_secs     │\\n│       trip_distance       │\\n│      pickup_longitude     │\\n│      pickup_latitude      │\\n│     dropoff_longitude     │\\n│      dropoff_latitude     │\\n│   ─ ─ ─ ─ ─ ─ ─ ─ ─ ─ ─   │\\n│ Filters: passenger_count=1│\\n│ AND passenger_count IS NOT│\\n│            NULL           │\\n│   ─ ─ ─ ─ ─ ─ ─ ─ ─ ─ ─   │\\n│           EC: 3           │\\n└───────────────────────────┘                             \\n')]\n",
    "    ```\n",
    "- Aggregate 1\n",
    "    ```\n",
    "    [('physical_plan', '┌───────────────────────────┐\\n│       HASH_GROUP_BY       │\\n│   ─ ─ ─ ─ ─ ─ ─ ─ ─ ─ ─   │\\n│             #0            │\\n│          avg(#1)          │\\n└─────────────┬─────────────┘                             \\n┌─────────────┴─────────────┐\\n│         PROJECTION        │\\n│   ─ ─ ─ ─ ─ ─ ─ ─ ─ ─ ─   │\\n│         medallion         │\\n│   CAST(trip_distance AS   │\\n│           DOUBLE)         │\\n└─────────────┬─────────────┘                             \\n┌─────────────┴─────────────┐\\n│         SEQ_SCAN          │\\n│   ─ ─ ─ ─ ─ ─ ─ ─ ─ ─ ─   │\\n│       TripDataSample      │\\n│   ─ ─ ─ ─ ─ ─ ─ ─ ─ ─ ─   │\\n│         medallion         │\\n│       trip_distance       │\\n│   ─ ─ ─ ─ ─ ─ ─ ─ ─ ─ ─   │\\n│ Filters: passenger_count=1│\\n│ AND passenger_count IS NOT│\\n│            NULL           │\\n│   ─ ─ ─ ─ ─ ─ ─ ─ ─ ─ ─   │\\n│           EC: 3           │\\n└───────────────────────────┘                             \\n')]\n",
    "    ```\n",
    "- Aggregate 2\n",
    "    ```\n",
    "    [('physical_plan', '┌───────────────────────────┐\\n│         PROJECTION        │\\n│   ─ ─ ─ ─ ─ ─ ─ ─ ─ ─ ─   │\\n│    avg(passenger_count)   │\\n└─────────────┬─────────────┘                             \\n┌─────────────┴─────────────┐\\n│       HASH_GROUP_BY       │\\n│   ─ ─ ─ ─ ─ ─ ─ ─ ─ ─ ─   │\\n│             #0            │\\n│          avg(#1)          │\\n└─────────────┬─────────────┘                             \\n┌─────────────┴─────────────┐\\n│         PROJECTION        │\\n│   ─ ─ ─ ─ ─ ─ ─ ─ ─ ─ ─   │\\n│      pickup_datetime      │\\n│      passenger_count      │\\n└─────────────┬─────────────┘                             \\n┌─────────────┴─────────────┐\\n│         SEQ_SCAN          │\\n│   ─ ─ ─ ─ ─ ─ ─ ─ ─ ─ ─   │\\n│       TripDataSample      │\\n│   ─ ─ ─ ─ ─ ─ ─ ─ ─ ─ ─   │\\n│      pickup_datetime      │\\n│      passenger_count      │\\n│   ─ ─ ─ ─ ─ ─ ─ ─ ─ ─ ─   │\\n│           EC: 9           │\\n└───────────────────────────┘                             \\n')]\n",
    "    ```\n",
    "- Aggregate 3\n",
    "    ```\n",
    "    [('physical_plan', '┌───────────────────────────┐                             \\n│         PROJECTION        │                             \\n│   ─ ─ ─ ─ ─ ─ ─ ─ ─ ─ ─   │                             \\n│       avg_pass_count      │                             \\n└─────────────┬─────────────┘                                                          \\n┌─────────────┴─────────────┐                             \\n│      NESTED_LOOP_JOIN     │                             \\n│   ─ ─ ─ ─ ─ ─ ─ ─ ─ ─ ─   │                             \\n│           INNER           │                             \\n│  avg_trip_dist > SUBQUERY ├──────────────┐              \\n│   ─ ─ ─ ─ ─ ─ ─ ─ ─ ─ ─   │              │              \\n│           EC: 40          │              │              \\n└─────────────┬─────────────┘              │                                           \\n┌─────────────┴─────────────┐┌─────────────┴─────────────┐\\n│         PROJECTION        ││    UNGROUPED_AGGREGATE    │\\n│   ─ ─ ─ ─ ─ ─ ─ ─ ─ ─ ─   ││   ─ ─ ─ ─ ─ ─ ─ ─ ─ ─ ─   │\\n│       avg_pass_count      ││         first(#0)         │\\n│       avg_trip_dist       ││                           │\\n└─────────────┬─────────────┘└─────────────┬─────────────┘                             \\n┌─────────────┴─────────────┐┌─────────────┴─────────────┐\\n│       HASH_GROUP_BY       ││         PROJECTION        │\\n│   ─ ─ ─ ─ ─ ─ ─ ─ ─ ─ ─   ││   ─ ─ ─ ─ ─ ─ ─ ─ ─ ─ ─   │\\n│             #0            ││             #0            │\\n│          avg(#1)          ││                           │\\n│          avg(#2)          ││                           │\\n└─────────────┬─────────────┘└─────────────┬─────────────┘                             \\n┌─────────────┴─────────────┐┌─────────────┴─────────────┐\\n│         PROJECTION        ││      STREAMING_LIMIT      │\\n│   ─ ─ ─ ─ ─ ─ ─ ─ ─ ─ ─   ││                           │\\n│         medallion         ││                           │\\n│      passenger_count      ││                           │\\n│   CAST(trip_distance AS   ││                           │\\n│           DOUBLE)         ││                           │\\n└─────────────┬─────────────┘└─────────────┬─────────────┘                             \\n┌─────────────┴─────────────┐┌─────────────┴─────────────┐\\n│         SEQ_SCAN          ││    UNGROUPED_AGGREGATE    │\\n│   ─ ─ ─ ─ ─ ─ ─ ─ ─ ─ ─   ││   ─ ─ ─ ─ ─ ─ ─ ─ ─ ─ ─   │\\n│       TripDataSample      ││          avg(#0)          │\\n│   ─ ─ ─ ─ ─ ─ ─ ─ ─ ─ ─   ││                           │\\n│         medallion         ││                           │\\n│      passenger_count      ││                           │\\n│       trip_distance       ││                           │\\n│   ─ ─ ─ ─ ─ ─ ─ ─ ─ ─ ─   ││                           │\\n│           EC: 18          ││                           │\\n└───────────────────────────┘└─────────────┬─────────────┘                             \\n                             ┌─────────────┴─────────────┐\\n                             │         PROJECTION        │\\n                             │   ─ ─ ─ ─ ─ ─ ─ ─ ─ ─ ─   │\\n                             │   CAST(trip_distance AS   │\\n                             │           DOUBLE)         │\\n                             └─────────────┬─────────────┘                             \\n                             ┌─────────────┴─────────────┐\\n                             │         SEQ_SCAN          │\\n                             │   ─ ─ ─ ─ ─ ─ ─ ─ ─ ─ ─   │\\n                             │       TripDataSample      │\\n                             │   ─ ─ ─ ─ ─ ─ ─ ─ ─ ─ ─   │\\n                             │       trip_distance       │\\n                             │   ─ ─ ─ ─ ─ ─ ─ ─ ─ ─ ─   │\\n                             │           EC: 18          │\\n                             └───────────────────────────┘                             \\n')]\n",
    "    ```"
   ]
  },
  {
   "cell_type": "markdown",
   "id": "670109fa",
   "metadata": {},
   "source": [
    "## Compare DuckDB and PostgreSQL\n",
    "\n",
    "- OLAP vs OLTP"
   ]
  },
  {
   "cell_type": "code",
   "execution_count": null,
   "id": "7b92dbc8",
   "metadata": {},
   "outputs": [],
   "source": [
    "# Closing the connection \n",
    "conn.close()"
   ]
  }
 ],
 "metadata": {
  "kernelspec": {
   "display_name": "Python 3 (ipykernel)",
   "language": "python",
   "name": "python3"
  },
  "language_info": {
   "codemirror_mode": {
    "name": "ipython",
    "version": 3
   },
   "file_extension": ".py",
   "mimetype": "text/x-python",
   "name": "python",
   "nbconvert_exporter": "python",
   "pygments_lexer": "ipython3",
   "version": "3.11.6"
  }
 },
 "nbformat": 4,
 "nbformat_minor": 5
}
